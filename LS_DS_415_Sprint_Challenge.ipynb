{
 "cells": [
  {
   "cell_type": "markdown",
   "metadata": {},
   "source": [
    "<img align=\"left\" src=\"https://lever-client-logos.s3.amazonaws.com/864372b1-534c-480e-acd5-9711f850815c-1524247202159.png\" width=200>\n",
    "<br></br>\n",
    "<br></br>\n",
    "\n",
    "# Sprint Challenge\n",
    "## *Data Science Unit 4 Sprint 1*\n",
    "\n",
    "After a week of Natural Language Processing, you've learned some cool new stuff: how to process text, how turn text into vectors, and how to model topics from documents. Apply your newly acquired skills to one of the most famous NLP datasets out there: [Yelp](https://www.yelp.com/dataset/challenge). As part of the job selection process, some of my friends have been asked to create analysis of this dataset, so I want to empower you to have a head start.  \n",
    "\n",
    "The real dataset is massive (almost 8 gigs uncompressed). I've sampled the data for you to something more managable for the Sprint Challenge. You can analyze the full dataset as a stretch goal or after the sprint challenge. As you work on the challenge, I suggest adding notes about your findings and things you want to analyze in the future.\n",
    "\n",
    "## Challenge Objectives\n",
    "*Successfully complete these all these objectives to earn a 2. There are more details on each objective further down in the notebook.*\n",
    "* <a href=\"#p1\">Part 1</a>: Write a function to tokenize the yelp reviews\n",
    "* <a href=\"#p2\">Part 2</a>: Create a vector representation of those tokens\n",
    "* <a href=\"#p3\">Part 3</a>: Use your tokens in a classification model on yelp rating\n",
    "* <a href=\"#p4\">Part 4</a>: Estimate & Interpret a topic model of the Yelp reviews"
   ]
  },
  {
   "cell_type": "code",
   "execution_count": 1,
   "metadata": {},
   "outputs": [],
   "source": [
    "import pandas as pd\n",
    "\n",
    "yelp = pd.read_json('./data/review_sample.json', lines=True)"
   ]
  },
  {
   "cell_type": "code",
   "execution_count": 2,
   "metadata": {},
   "outputs": [
    {
     "data": {
      "text/html": [
       "<div>\n",
       "<style scoped>\n",
       "    .dataframe tbody tr th:only-of-type {\n",
       "        vertical-align: middle;\n",
       "    }\n",
       "\n",
       "    .dataframe tbody tr th {\n",
       "        vertical-align: top;\n",
       "    }\n",
       "\n",
       "    .dataframe thead th {\n",
       "        text-align: right;\n",
       "    }\n",
       "</style>\n",
       "<table border=\"1\" class=\"dataframe\">\n",
       "  <thead>\n",
       "    <tr style=\"text-align: right;\">\n",
       "      <th></th>\n",
       "      <th>business_id</th>\n",
       "      <th>cool</th>\n",
       "      <th>date</th>\n",
       "      <th>funny</th>\n",
       "      <th>review_id</th>\n",
       "      <th>stars</th>\n",
       "      <th>text</th>\n",
       "      <th>useful</th>\n",
       "      <th>user_id</th>\n",
       "    </tr>\n",
       "  </thead>\n",
       "  <tbody>\n",
       "    <tr>\n",
       "      <th>0</th>\n",
       "      <td>nDuEqIyRc8YKS1q1fX0CZg</td>\n",
       "      <td>1</td>\n",
       "      <td>2015-03-31 16:50:30</td>\n",
       "      <td>0</td>\n",
       "      <td>eZs2tpEJtXPwawvHnHZIgQ</td>\n",
       "      <td>1</td>\n",
       "      <td>BEWARE!!! FAKE, FAKE, FAKE....We also own a sm...</td>\n",
       "      <td>10</td>\n",
       "      <td>n1LM36qNg4rqGXIcvVXv8w</td>\n",
       "    </tr>\n",
       "    <tr>\n",
       "      <th>1</th>\n",
       "      <td>eMYeEapscbKNqUDCx705hg</td>\n",
       "      <td>0</td>\n",
       "      <td>2015-12-16 05:31:03</td>\n",
       "      <td>0</td>\n",
       "      <td>DoQDWJsNbU0KL1O29l_Xug</td>\n",
       "      <td>4</td>\n",
       "      <td>Came here for lunch Togo. Service was quick. S...</td>\n",
       "      <td>0</td>\n",
       "      <td>5CgjjDAic2-FAvCtiHpytA</td>\n",
       "    </tr>\n",
       "    <tr>\n",
       "      <th>2</th>\n",
       "      <td>6Q7-wkCPc1KF75jZLOTcMw</td>\n",
       "      <td>1</td>\n",
       "      <td>2010-06-20 19:14:48</td>\n",
       "      <td>1</td>\n",
       "      <td>DDOdGU7zh56yQHmUnL1idQ</td>\n",
       "      <td>3</td>\n",
       "      <td>I've been to Vegas dozens of times and had nev...</td>\n",
       "      <td>2</td>\n",
       "      <td>BdV-cf3LScmb8kZ7iiBcMA</td>\n",
       "    </tr>\n",
       "    <tr>\n",
       "      <th>3</th>\n",
       "      <td>k3zrItO4l9hwfLRwHBDc9w</td>\n",
       "      <td>3</td>\n",
       "      <td>2010-07-13 00:33:45</td>\n",
       "      <td>4</td>\n",
       "      <td>LfTMUWnfGFMOfOIyJcwLVA</td>\n",
       "      <td>1</td>\n",
       "      <td>We went here on a night where they closed off ...</td>\n",
       "      <td>5</td>\n",
       "      <td>cZZnBqh4gAEy4CdNvJailQ</td>\n",
       "    </tr>\n",
       "    <tr>\n",
       "      <th>4</th>\n",
       "      <td>6hpfRwGlOzbNv7k5eP9rsQ</td>\n",
       "      <td>1</td>\n",
       "      <td>2018-06-30 02:30:01</td>\n",
       "      <td>0</td>\n",
       "      <td>zJSUdI7bJ8PNJAg4lnl_Gg</td>\n",
       "      <td>4</td>\n",
       "      <td>3.5 to 4 stars\\n\\nNot bad for the price, $12.9...</td>\n",
       "      <td>5</td>\n",
       "      <td>n9QO4ClYAS7h9fpQwa5bhA</td>\n",
       "    </tr>\n",
       "  </tbody>\n",
       "</table>\n",
       "</div>"
      ],
      "text/plain": [
       "              business_id  cool                date  funny  \\\n",
       "0  nDuEqIyRc8YKS1q1fX0CZg     1 2015-03-31 16:50:30      0   \n",
       "1  eMYeEapscbKNqUDCx705hg     0 2015-12-16 05:31:03      0   \n",
       "2  6Q7-wkCPc1KF75jZLOTcMw     1 2010-06-20 19:14:48      1   \n",
       "3  k3zrItO4l9hwfLRwHBDc9w     3 2010-07-13 00:33:45      4   \n",
       "4  6hpfRwGlOzbNv7k5eP9rsQ     1 2018-06-30 02:30:01      0   \n",
       "\n",
       "                review_id  stars  \\\n",
       "0  eZs2tpEJtXPwawvHnHZIgQ      1   \n",
       "1  DoQDWJsNbU0KL1O29l_Xug      4   \n",
       "2  DDOdGU7zh56yQHmUnL1idQ      3   \n",
       "3  LfTMUWnfGFMOfOIyJcwLVA      1   \n",
       "4  zJSUdI7bJ8PNJAg4lnl_Gg      4   \n",
       "\n",
       "                                                text  useful  \\\n",
       "0  BEWARE!!! FAKE, FAKE, FAKE....We also own a sm...      10   \n",
       "1  Came here for lunch Togo. Service was quick. S...       0   \n",
       "2  I've been to Vegas dozens of times and had nev...       2   \n",
       "3  We went here on a night where they closed off ...       5   \n",
       "4  3.5 to 4 stars\\n\\nNot bad for the price, $12.9...       5   \n",
       "\n",
       "                  user_id  \n",
       "0  n1LM36qNg4rqGXIcvVXv8w  \n",
       "1  5CgjjDAic2-FAvCtiHpytA  \n",
       "2  BdV-cf3LScmb8kZ7iiBcMA  \n",
       "3  cZZnBqh4gAEy4CdNvJailQ  \n",
       "4  n9QO4ClYAS7h9fpQwa5bhA  "
      ]
     },
     "execution_count": 2,
     "metadata": {},
     "output_type": "execute_result"
    }
   ],
   "source": [
    "yelp.head()"
   ]
  },
  {
   "cell_type": "code",
   "execution_count": 3,
   "metadata": {},
   "outputs": [
    {
     "data": {
      "text/plain": [
       "(10000, 9)"
      ]
     },
     "execution_count": 3,
     "metadata": {},
     "output_type": "execute_result"
    }
   ],
   "source": [
    "yelp.shape"
   ]
  },
  {
   "cell_type": "markdown",
   "metadata": {},
   "source": [
    "## Part 1: Tokenize Function\n",
    "<a id=\"#p1\"></a>\n",
    "\n",
    "Complete the function `tokenize`. Your function should\n",
    "- accept one document at a time\n",
    "- return a list of tokens\n",
    "\n",
    "You are free to use any method you have learned this week."
   ]
  },
  {
   "cell_type": "code",
   "execution_count": 5,
   "metadata": {},
   "outputs": [
    {
     "name": "stderr",
     "output_type": "stream",
     "text": [
      "C:\\Users\\WIN 10\\Anaconda3\\envs\\unit-4\\lib\\site-packages\\gensim\\utils.py:1197: UserWarning: detected Windows; aliasing chunkize to chunkize_serial\n",
      "  warnings.warn(\"detected Windows; aliasing chunkize to chunkize_serial\")\n"
     ]
    }
   ],
   "source": [
    "import numpy as np\n",
    "import gensim\n",
    "import os\n",
    "import re\n",
    "\n",
    "from gensim.utils import simple_preprocess\n",
    "from gensim.parsing.preprocessing import STOPWORDS\n",
    "from gensim import corpora\n",
    "\n",
    "from gensim.models.ldamulticore import LdaMulticore\n",
    "\n",
    "import pandas as pd\n",
    "import os \n",
    "from collections import Counter\n",
    "import re\n",
    " \n",
    "\n",
    "# Plotting\n",
    "import squarify\n",
    "import matplotlib.pyplot as plt\n",
    "import seaborn as sns\n",
    "\n",
    "# NLP Libraries\n",
    "import spacy\n",
    "from spacy.tokenizer import Tokenizer\n",
    "from nltk.stem import PorterStemmer"
   ]
  },
  {
   "cell_type": "code",
   "execution_count": 6,
   "metadata": {},
   "outputs": [],
   "source": [
    "#STOPWORDS = set(STOPWORDS).union(set(['tablet']))\n",
    "def tokenize(text):\n",
    "    return([token for token in simple_preprocess(text) if token not in STOPWORDS])"
   ]
  },
  {
   "cell_type": "code",
   "execution_count": 7,
   "metadata": {},
   "outputs": [
    {
     "data": {
      "text/html": [
       "<div>\n",
       "<style scoped>\n",
       "    .dataframe tbody tr th:only-of-type {\n",
       "        vertical-align: middle;\n",
       "    }\n",
       "\n",
       "    .dataframe tbody tr th {\n",
       "        vertical-align: top;\n",
       "    }\n",
       "\n",
       "    .dataframe thead th {\n",
       "        text-align: right;\n",
       "    }\n",
       "</style>\n",
       "<table border=\"1\" class=\"dataframe\">\n",
       "  <thead>\n",
       "    <tr style=\"text-align: right;\">\n",
       "      <th></th>\n",
       "      <th>business_id</th>\n",
       "      <th>cool</th>\n",
       "      <th>date</th>\n",
       "      <th>funny</th>\n",
       "      <th>review_id</th>\n",
       "      <th>stars</th>\n",
       "      <th>text</th>\n",
       "      <th>useful</th>\n",
       "      <th>user_id</th>\n",
       "      <th>tokens</th>\n",
       "    </tr>\n",
       "  </thead>\n",
       "  <tbody>\n",
       "    <tr>\n",
       "      <th>0</th>\n",
       "      <td>nDuEqIyRc8YKS1q1fX0CZg</td>\n",
       "      <td>1</td>\n",
       "      <td>2015-03-31 16:50:30</td>\n",
       "      <td>0</td>\n",
       "      <td>eZs2tpEJtXPwawvHnHZIgQ</td>\n",
       "      <td>1</td>\n",
       "      <td>BEWARE!!! FAKE, FAKE, FAKE....We also own a sm...</td>\n",
       "      <td>10</td>\n",
       "      <td>n1LM36qNg4rqGXIcvVXv8w</td>\n",
       "      <td>[beware, fake, fake, fake, small, business, lo...</td>\n",
       "    </tr>\n",
       "    <tr>\n",
       "      <th>1</th>\n",
       "      <td>eMYeEapscbKNqUDCx705hg</td>\n",
       "      <td>0</td>\n",
       "      <td>2015-12-16 05:31:03</td>\n",
       "      <td>0</td>\n",
       "      <td>DoQDWJsNbU0KL1O29l_Xug</td>\n",
       "      <td>4</td>\n",
       "      <td>Came here for lunch Togo. Service was quick. S...</td>\n",
       "      <td>0</td>\n",
       "      <td>5CgjjDAic2-FAvCtiHpytA</td>\n",
       "      <td>[came, lunch, togo, service, quick, staff, fri...</td>\n",
       "    </tr>\n",
       "    <tr>\n",
       "      <th>2</th>\n",
       "      <td>6Q7-wkCPc1KF75jZLOTcMw</td>\n",
       "      <td>1</td>\n",
       "      <td>2010-06-20 19:14:48</td>\n",
       "      <td>1</td>\n",
       "      <td>DDOdGU7zh56yQHmUnL1idQ</td>\n",
       "      <td>3</td>\n",
       "      <td>I've been to Vegas dozens of times and had nev...</td>\n",
       "      <td>2</td>\n",
       "      <td>BdV-cf3LScmb8kZ7iiBcMA</td>\n",
       "      <td>[ve, vegas, dozens, times, stepped, foot, circ...</td>\n",
       "    </tr>\n",
       "    <tr>\n",
       "      <th>3</th>\n",
       "      <td>k3zrItO4l9hwfLRwHBDc9w</td>\n",
       "      <td>3</td>\n",
       "      <td>2010-07-13 00:33:45</td>\n",
       "      <td>4</td>\n",
       "      <td>LfTMUWnfGFMOfOIyJcwLVA</td>\n",
       "      <td>1</td>\n",
       "      <td>We went here on a night where they closed off ...</td>\n",
       "      <td>5</td>\n",
       "      <td>cZZnBqh4gAEy4CdNvJailQ</td>\n",
       "      <td>[went, night, closed, street, party, best, act...</td>\n",
       "    </tr>\n",
       "    <tr>\n",
       "      <th>4</th>\n",
       "      <td>6hpfRwGlOzbNv7k5eP9rsQ</td>\n",
       "      <td>1</td>\n",
       "      <td>2018-06-30 02:30:01</td>\n",
       "      <td>0</td>\n",
       "      <td>zJSUdI7bJ8PNJAg4lnl_Gg</td>\n",
       "      <td>4</td>\n",
       "      <td>3.5 to 4 stars\\n\\nNot bad for the price, $12.9...</td>\n",
       "      <td>5</td>\n",
       "      <td>n9QO4ClYAS7h9fpQwa5bhA</td>\n",
       "      <td>[stars, bad, price, lunch, seniors, pay, eatin...</td>\n",
       "    </tr>\n",
       "  </tbody>\n",
       "</table>\n",
       "</div>"
      ],
      "text/plain": [
       "              business_id  cool                date  funny  \\\n",
       "0  nDuEqIyRc8YKS1q1fX0CZg     1 2015-03-31 16:50:30      0   \n",
       "1  eMYeEapscbKNqUDCx705hg     0 2015-12-16 05:31:03      0   \n",
       "2  6Q7-wkCPc1KF75jZLOTcMw     1 2010-06-20 19:14:48      1   \n",
       "3  k3zrItO4l9hwfLRwHBDc9w     3 2010-07-13 00:33:45      4   \n",
       "4  6hpfRwGlOzbNv7k5eP9rsQ     1 2018-06-30 02:30:01      0   \n",
       "\n",
       "                review_id  stars  \\\n",
       "0  eZs2tpEJtXPwawvHnHZIgQ      1   \n",
       "1  DoQDWJsNbU0KL1O29l_Xug      4   \n",
       "2  DDOdGU7zh56yQHmUnL1idQ      3   \n",
       "3  LfTMUWnfGFMOfOIyJcwLVA      1   \n",
       "4  zJSUdI7bJ8PNJAg4lnl_Gg      4   \n",
       "\n",
       "                                                text  useful  \\\n",
       "0  BEWARE!!! FAKE, FAKE, FAKE....We also own a sm...      10   \n",
       "1  Came here for lunch Togo. Service was quick. S...       0   \n",
       "2  I've been to Vegas dozens of times and had nev...       2   \n",
       "3  We went here on a night where they closed off ...       5   \n",
       "4  3.5 to 4 stars\\n\\nNot bad for the price, $12.9...       5   \n",
       "\n",
       "                  user_id                                             tokens  \n",
       "0  n1LM36qNg4rqGXIcvVXv8w  [beware, fake, fake, fake, small, business, lo...  \n",
       "1  5CgjjDAic2-FAvCtiHpytA  [came, lunch, togo, service, quick, staff, fri...  \n",
       "2  BdV-cf3LScmb8kZ7iiBcMA  [ve, vegas, dozens, times, stepped, foot, circ...  \n",
       "3  cZZnBqh4gAEy4CdNvJailQ  [went, night, closed, street, party, best, act...  \n",
       "4  n9QO4ClYAS7h9fpQwa5bhA  [stars, bad, price, lunch, seniors, pay, eatin...  "
      ]
     },
     "execution_count": 7,
     "metadata": {},
     "output_type": "execute_result"
    }
   ],
   "source": [
    "yelp['tokens'] = yelp.text.apply(lambda x: tokenize(x))\n",
    "yelp.head()"
   ]
  },
  {
   "cell_type": "code",
   "execution_count": 55,
   "metadata": {},
   "outputs": [],
   "source": [
    "yelp = yelp.drop([6311])"
   ]
  },
  {
   "cell_type": "markdown",
   "metadata": {},
   "source": [
    "## Part 2: Vector Representation\n",
    "<a id=\"#p2\"></a>\n",
    "1. Create a vector representation of the reviews\n",
    "2. Write a fake review and query for the 10 most similiar reviews, print the text of the reviews. Do you notice any patterns?\n",
    "    - Given the size of the dataset, it will probably be best to use a `NearestNeighbors` model for this. "
   ]
  },
  {
   "cell_type": "code",
   "execution_count": 56,
   "metadata": {},
   "outputs": [],
   "source": [
    "import spacy\n",
    "from spacy.tokenizer import Tokenizer\n",
    "\n",
    "nlp = spacy.load(\"en_core_web_lg\")"
   ]
  },
  {
   "cell_type": "code",
   "execution_count": 57,
   "metadata": {},
   "outputs": [],
   "source": [
    "from sklearn.feature_extraction.text import TfidfVectorizer\n",
    "\n",
    "def tokenize(document):\n",
    "    \n",
    "    doc = nlp(document)\n",
    "    \n",
    "    return [token.lemma_.strip() for token in doc if (token.is_stop != True) and (token.is_punct != True)]\n",
    "\n",
    "tfidf = TfidfVectorizer(tokenizer=tokenize, min_df=0.025, max_df=.98, ngram_range=(1,2))\n"
   ]
  },
  {
   "cell_type": "code",
   "execution_count": 58,
   "metadata": {},
   "outputs": [],
   "source": [
    "dtm = tfidf.fit_transform(yelp.text) "
   ]
  },
  {
   "cell_type": "code",
   "execution_count": 59,
   "metadata": {},
   "outputs": [
    {
     "data": {
      "text/html": [
       "<div>\n",
       "<style scoped>\n",
       "    .dataframe tbody tr th:only-of-type {\n",
       "        vertical-align: middle;\n",
       "    }\n",
       "\n",
       "    .dataframe tbody tr th {\n",
       "        vertical-align: top;\n",
       "    }\n",
       "\n",
       "    .dataframe thead th {\n",
       "        text-align: right;\n",
       "    }\n",
       "</style>\n",
       "<table border=\"1\" class=\"dataframe\">\n",
       "  <thead>\n",
       "    <tr style=\"text-align: right;\">\n",
       "      <th></th>\n",
       "      <th></th>\n",
       "      <th>definitely</th>\n",
       "      <th>food</th>\n",
       "      <th>get</th>\n",
       "      <th>good</th>\n",
       "      <th>great</th>\n",
       "      <th>order</th>\n",
       "      <th>service</th>\n",
       "      <th>$</th>\n",
       "      <th>1</th>\n",
       "      <th>...</th>\n",
       "      <th>well</th>\n",
       "      <th>wife</th>\n",
       "      <th>will</th>\n",
       "      <th>wine</th>\n",
       "      <th>wish</th>\n",
       "      <th>wonderful</th>\n",
       "      <th>work</th>\n",
       "      <th>worth</th>\n",
       "      <th>wrong</th>\n",
       "      <th>year</th>\n",
       "    </tr>\n",
       "  </thead>\n",
       "  <tbody>\n",
       "    <tr>\n",
       "      <th>0</th>\n",
       "      <td>0.298105</td>\n",
       "      <td>0.0</td>\n",
       "      <td>0.0</td>\n",
       "      <td>0.0</td>\n",
       "      <td>0.0</td>\n",
       "      <td>0.0</td>\n",
       "      <td>0.0</td>\n",
       "      <td>0.0</td>\n",
       "      <td>0.146361</td>\n",
       "      <td>0.0</td>\n",
       "      <td>...</td>\n",
       "      <td>0.0</td>\n",
       "      <td>0.0</td>\n",
       "      <td>0.0</td>\n",
       "      <td>0.0</td>\n",
       "      <td>0.0</td>\n",
       "      <td>0.0</td>\n",
       "      <td>0.0</td>\n",
       "      <td>0.0</td>\n",
       "      <td>0.0</td>\n",
       "      <td>0.000000</td>\n",
       "    </tr>\n",
       "    <tr>\n",
       "      <th>1</th>\n",
       "      <td>0.000000</td>\n",
       "      <td>0.0</td>\n",
       "      <td>0.0</td>\n",
       "      <td>0.0</td>\n",
       "      <td>0.0</td>\n",
       "      <td>0.0</td>\n",
       "      <td>0.0</td>\n",
       "      <td>0.0</td>\n",
       "      <td>0.000000</td>\n",
       "      <td>0.0</td>\n",
       "      <td>...</td>\n",
       "      <td>0.0</td>\n",
       "      <td>0.0</td>\n",
       "      <td>0.0</td>\n",
       "      <td>0.0</td>\n",
       "      <td>0.0</td>\n",
       "      <td>0.0</td>\n",
       "      <td>0.0</td>\n",
       "      <td>0.0</td>\n",
       "      <td>0.0</td>\n",
       "      <td>0.000000</td>\n",
       "    </tr>\n",
       "    <tr>\n",
       "      <th>2</th>\n",
       "      <td>0.144529</td>\n",
       "      <td>0.0</td>\n",
       "      <td>0.0</td>\n",
       "      <td>0.0</td>\n",
       "      <td>0.0</td>\n",
       "      <td>0.0</td>\n",
       "      <td>0.0</td>\n",
       "      <td>0.0</td>\n",
       "      <td>0.189225</td>\n",
       "      <td>0.0</td>\n",
       "      <td>...</td>\n",
       "      <td>0.0</td>\n",
       "      <td>0.0</td>\n",
       "      <td>0.0</td>\n",
       "      <td>0.0</td>\n",
       "      <td>0.0</td>\n",
       "      <td>0.0</td>\n",
       "      <td>0.0</td>\n",
       "      <td>0.0</td>\n",
       "      <td>0.0</td>\n",
       "      <td>0.108898</td>\n",
       "    </tr>\n",
       "    <tr>\n",
       "      <th>3</th>\n",
       "      <td>0.000000</td>\n",
       "      <td>0.0</td>\n",
       "      <td>0.0</td>\n",
       "      <td>0.0</td>\n",
       "      <td>0.0</td>\n",
       "      <td>0.0</td>\n",
       "      <td>0.0</td>\n",
       "      <td>0.0</td>\n",
       "      <td>0.000000</td>\n",
       "      <td>0.0</td>\n",
       "      <td>...</td>\n",
       "      <td>0.0</td>\n",
       "      <td>0.0</td>\n",
       "      <td>0.0</td>\n",
       "      <td>0.0</td>\n",
       "      <td>0.0</td>\n",
       "      <td>0.0</td>\n",
       "      <td>0.0</td>\n",
       "      <td>0.0</td>\n",
       "      <td>0.0</td>\n",
       "      <td>0.000000</td>\n",
       "    </tr>\n",
       "    <tr>\n",
       "      <th>4</th>\n",
       "      <td>0.389419</td>\n",
       "      <td>0.0</td>\n",
       "      <td>0.0</td>\n",
       "      <td>0.0</td>\n",
       "      <td>0.0</td>\n",
       "      <td>0.0</td>\n",
       "      <td>0.0</td>\n",
       "      <td>0.0</td>\n",
       "      <td>0.127462</td>\n",
       "      <td>0.0</td>\n",
       "      <td>...</td>\n",
       "      <td>0.0</td>\n",
       "      <td>0.0</td>\n",
       "      <td>0.0</td>\n",
       "      <td>0.0</td>\n",
       "      <td>0.0</td>\n",
       "      <td>0.0</td>\n",
       "      <td>0.0</td>\n",
       "      <td>0.0</td>\n",
       "      <td>0.0</td>\n",
       "      <td>0.000000</td>\n",
       "    </tr>\n",
       "  </tbody>\n",
       "</table>\n",
       "<p>5 rows × 339 columns</p>\n",
       "</div>"
      ],
      "text/plain": [
       "              definitely   food   get   good   great   order   service  \\\n",
       "0  0.298105          0.0    0.0   0.0    0.0     0.0     0.0       0.0   \n",
       "1  0.000000          0.0    0.0   0.0    0.0     0.0     0.0       0.0   \n",
       "2  0.144529          0.0    0.0   0.0    0.0     0.0     0.0       0.0   \n",
       "3  0.000000          0.0    0.0   0.0    0.0     0.0     0.0       0.0   \n",
       "4  0.389419          0.0    0.0   0.0    0.0     0.0     0.0       0.0   \n",
       "\n",
       "          $    1  ...  well  wife  will  wine  wish  wonderful  work  worth  \\\n",
       "0  0.146361  0.0  ...   0.0   0.0   0.0   0.0   0.0        0.0   0.0    0.0   \n",
       "1  0.000000  0.0  ...   0.0   0.0   0.0   0.0   0.0        0.0   0.0    0.0   \n",
       "2  0.189225  0.0  ...   0.0   0.0   0.0   0.0   0.0        0.0   0.0    0.0   \n",
       "3  0.000000  0.0  ...   0.0   0.0   0.0   0.0   0.0        0.0   0.0    0.0   \n",
       "4  0.127462  0.0  ...   0.0   0.0   0.0   0.0   0.0        0.0   0.0    0.0   \n",
       "\n",
       "   wrong      year  \n",
       "0    0.0  0.000000  \n",
       "1    0.0  0.000000  \n",
       "2    0.0  0.108898  \n",
       "3    0.0  0.000000  \n",
       "4    0.0  0.000000  \n",
       "\n",
       "[5 rows x 339 columns]"
      ]
     },
     "execution_count": 59,
     "metadata": {},
     "output_type": "execute_result"
    }
   ],
   "source": [
    "dtm = pd.DataFrame(dtm.todense(), columns=tfidf.get_feature_names())\n",
    "dtm.head()"
   ]
  },
  {
   "cell_type": "code",
   "execution_count": 60,
   "metadata": {},
   "outputs": [
    {
     "data": {
      "text/plain": [
       "NearestNeighbors(algorithm='kd_tree', leaf_size=30, metric='minkowski',\n",
       "         metric_params=None, n_jobs=None, n_neighbors=10, p=2, radius=1.0)"
      ]
     },
     "execution_count": 60,
     "metadata": {},
     "output_type": "execute_result"
    }
   ],
   "source": [
    "from sklearn.neighbors import NearestNeighbors\n",
    "\n",
    "kdtree  = NearestNeighbors(n_neighbors=10, algorithm='kd_tree')\n",
    "kdtree.fit(dtm)"
   ]
  },
  {
   "cell_type": "code",
   "execution_count": 61,
   "metadata": {},
   "outputs": [],
   "source": [
    "query = ['I am writing this becuase of the conduct of the emplyees. They could not be more rude and unprofessional. The tryed to ask one of the men for assistance when I noticed he is talking on the phone on duty, he rudely told me to ask someone else on duty. Despite the good reviews on Google and other websites, my experience here was very short and unfriendlyI had called prior to coming in; Over the phone I spoke with somebody named Jr. We spoke and I told him I was interested in test driving a car they had on their website. He was friendly over the phone and we decided on a time to meet. When I got there, I talked to this old guy and asked if Jr. was around. He was very rude in assisting me.I got my coffee and no thank you or anything from any of the two that served me. I sat down and found out there was wi-fi. This rudeness and incompetence seems to be a pattern in this town and it spreads everywhere.']\n",
    "query_trans = tfidf.transform(query)"
   ]
  },
  {
   "cell_type": "code",
   "execution_count": 62,
   "metadata": {},
   "outputs": [],
   "source": [
    "res = kdtree.kneighbors(query_trans.todense())"
   ]
  },
  {
   "cell_type": "code",
   "execution_count": 63,
   "metadata": {},
   "outputs": [
    {
     "data": {
      "text/plain": [
       "(array([[0.81877839, 1.        , 1.        , 1.00086212, 1.01679429,\n",
       "         1.04831278, 1.05359358, 1.0554316 , 1.05794256, 1.07446938]]),\n",
       " array([[ 284, 3520, 4839, 4491, 1704, 3427, 8034, 1120, 4913, 1471]],\n",
       "       dtype=int64))"
      ]
     },
     "execution_count": 63,
     "metadata": {},
     "output_type": "execute_result"
    }
   ],
   "source": [
    "res"
   ]
  },
  {
   "cell_type": "code",
   "execution_count": 69,
   "metadata": {},
   "outputs": [
    {
     "name": "stdout",
     "output_type": "stream",
     "text": [
      "-----------1--------------\n",
      "Despite the good reviews on Google and other websites, my experience here was very short and unfriendly. I had called prior to coming in; Over the phone I spoke with somebody named Jr. We spoke and I told him I was interested in test driving a car they had on their website. He was friendly over the phone and we decided on a time to meet. When I got there, I talked to this old guy and asked if Jr. was around. He was very rude in assisting me. I asked him if Jr. was around because I had an appointment with him. I don't know why, but he was very stubborn although the we had just met. I had to ask him 3 times to get him to respond. It turns out that Jr. had already left, even though we had already agreed to meet at that time. It was very unprofessional to have someone drive out to meet them and not be there at all. Since he wasn't there I asked if there was anyone else I could talk to because I really wanted to test drive the car. He said no, that I would have to come another day. After that I just walked out. I don't think it would have been any trouble if he had another employee show me instead. There weren't any other customers around either, so I don't know what the issue would have been. He also didn't even offer any help when I got to the lot. I had to approach him for help. Worst customer service ever. Won't be returning.\n",
      "\n",
      "-----------2--------------\n",
      "Dr. Liaw is very thorough with her exam. She is caring and efficient. I wouldn't hesitate to refer someone to her.\n",
      "\n",
      "-----------3--------------\n",
      "Une superbe sélection de bières de microbrasserie québécoise avec sélection de fromages et charcuteries. Le personnel est très sympathique. La sélection de bières evolue constamment. Bravo à l'équipe.\n",
      "\n",
      "-----------4--------------\n",
      "This is a update to my earlier review. The mechanic called today trying to set up another appointment to service my car. I can't believe this, after missing three appointments and not answering his phone. When asked why he didn't call and say he couldn't make it, I was told that something came up. Why would I ever trust this guy to even service my car. He isn't reliable enough to pick up the phone and just explain. I was willing to work with him knowing that this was a holiday weekend.\n",
      "\n",
      "it was a really bad experience.\n",
      "\n",
      "-----------5--------------\n",
      "Rude and incompetent staff. I asked if they had wi-fi like most coffee shops. The person at the register said she didn't know, so I asked the other one, standing next to her. She just shrugged.  Why would they be so clueless about this? I'm sure someone asked that before! To top it off, they seemed bothered that I even asked. I got my coffee and no thank you or anything from any of the two that served me. I sat down and found out there was wi-fi. This rudeness and incompetence seems to be a pattern in this town and it spreads everywhere.\n",
      "\n",
      "-----------6--------------\n",
      "Horrible Horrible Horrible customer service! If you call with any questions the front office is extremely rude and snobby over the phone! I was told I could not be transferred to a doctor or physician's assistant to get my question answered! They refused to write me a script! They said my pharmacy had to request it. What kind of bullshit is that?! I pay that doctors office for every visit and they want someone else to do the work for them?!?! I called six times and got the same lady who is very very rude over the phone and of no help! I emailed Lynn personally and never received a response! I think it's time to look for a new doctor! STAY AWAYYYYYY!\n",
      "\n",
      "-----------7--------------\n",
      "If it were possible I wouldn't give it any stars.   Whenever you call to get a problem taken care of nobody ever calls you back or comes to take care of the problem.  Then when something happens (like a murder that occured a building down from me) that would be nice to be brought to the residents attention they don't bother to answer any questions, it's always \"well someone will call you back\"   Also the maintenence men are awful and don't really know how to fix ANYTHING!  Not all of them are so bad but there was one in particular that was a complete moron.  most of the office staff are idiots too and will pretty much tell you anything as long as it makes them look good. Not worth it to live here.\n",
      "\n",
      "-----------8--------------\n",
      "I just gave these guys a call to see how much it would cost for my car to be done and ask a few questions about the process and the products. I was given the response \"come in and we will talk\" to answer every question i had. EXTREMELY frustrating and i will now not bring my car to them because of their inability to simply answer a few questions over the phone.\n",
      "\n",
      "-----------9--------------\n",
      "This company is HORRIBLE!!!! I hired them because Alan gave me a deal over the phone and then when they got to my house with my pool table he changed the price to more and told me he never told me anything that we talked about on the phone!! I'm pissed! Horrible customer Service!! Don't use them!!\n",
      "\n",
      "-----------10--------------\n",
      "I made a grooming appointment for my puppy and they said to bring her in. No one said I would need to get them paperwork when dropping her off (occasionally they'll ask at which time I present it at pick up.) It wasn't so much the bringing in papers, just how rude they were about it. I asked why they didn't mention it over the phone and got no response. With so many other groomers in the area I would definitely avoid this location.\n",
      "\n"
     ]
    }
   ],
   "source": [
    "num = 0\n",
    "for i in res[1][0]:\n",
    "    num = num + 1\n",
    "    print(f\"-----------{num}--------------\")\n",
    "    print(yelp.text[i])\n",
    "    print(\"\")"
   ]
  },
  {
   "cell_type": "markdown",
   "metadata": {},
   "source": [
    "### Results Overview\n",
    "\n",
    "Thre results seam very good. It picked up on the fact that the service was bad, there was a phone call in the review and the review was overall negative.\n",
    "\n",
    "I did find that if I wrote a short review the results would have some in Russian, Spanish, and Mandarin\n",
    "\n"
   ]
  },
  {
   "cell_type": "markdown",
   "metadata": {},
   "source": [
    "## Part 3: Classification\n",
    "<a id=\"#p3\"></a>\n",
    "Your goal in this section will be to predict `stars` from the review dataset. \n",
    "\n",
    "1. Create a piepline object with a sklearn `CountVectorizer` or `TfidfVector` and any sklearn classifier. Use that pipeline to estimate a model to predict `stars`. Use the Pipeline to predict a star rating for your fake review from Part 2. \n",
    "2. Tune the entire pipeline with a GridSearch\n",
    "\n"
   ]
  },
  {
   "cell_type": "code",
   "execution_count": 74,
   "metadata": {},
   "outputs": [],
   "source": [
    "from sklearn.pipeline import Pipeline\n",
    "from sklearn.ensemble import RandomForestClassifier\n",
    "from sklearn.model_selection import GridSearchCV\n",
    "from sklearn.svm import SVC, LinearSVC, NuSVC\n",
    "\n",
    "LSVC = LinearSVC()"
   ]
  },
  {
   "cell_type": "code",
   "execution_count": 81,
   "metadata": {},
   "outputs": [],
   "source": [
    "rfc = RandomForestClassifier()"
   ]
  },
  {
   "cell_type": "code",
   "execution_count": 75,
   "metadata": {},
   "outputs": [],
   "source": [
    "def model(model):\n",
    "    vect = TfidfVectorizer(stop_words='english')\n",
    "    clf = model\n",
    "\n",
    "    pipe = Pipeline([('vect', vect), ('clf', clf)])\n",
    "\n",
    "    param = {\n",
    "        'vect__max_df': (0.2,0.5,0.75, 1.0),\n",
    "        'vect__min_df': (.02,.035, .05, .1),\n",
    "        'vect__max_features': (100, 250, 500,1000,1250),\n",
    "\n",
    "       # 'clf__max_leaf_nodes': (None,2,3,4,5,7,8,9,10)\n",
    "\n",
    "    }\n",
    "    grid_search = GridSearchCV(pipe,param, cv=8, n_jobs=-1, verbose=1)\n",
    "    grid_search.fit(yelp.text, yelp.stars)    \n",
    "    return(grid_search)"
   ]
  },
  {
   "cell_type": "code",
   "execution_count": 76,
   "metadata": {},
   "outputs": [
    {
     "name": "stdout",
     "output_type": "stream",
     "text": [
      "Fitting 8 folds for each of 80 candidates, totalling 640 fits\n"
     ]
    },
    {
     "name": "stderr",
     "output_type": "stream",
     "text": [
      "[Parallel(n_jobs=-1)]: Using backend LokyBackend with 8 concurrent workers.\n",
      "[Parallel(n_jobs=-1)]: Done  34 tasks      | elapsed:   22.9s\n",
      "[Parallel(n_jobs=-1)]: Done 184 tasks      | elapsed:  1.5min\n",
      "[Parallel(n_jobs=-1)]: Done 434 tasks      | elapsed:  3.2min\n",
      "[Parallel(n_jobs=-1)]: Done 640 out of 640 | elapsed:  4.9min finished\n"
     ]
    }
   ],
   "source": [
    "grid_search = model(LSVC)"
   ]
  },
  {
   "cell_type": "code",
   "execution_count": 77,
   "metadata": {},
   "outputs": [
    {
     "data": {
      "text/plain": [
       "0.5953595359535954"
      ]
     },
     "execution_count": 77,
     "metadata": {},
     "output_type": "execute_result"
    }
   ],
   "source": [
    "grid_search.best_score_"
   ]
  },
  {
   "cell_type": "code",
   "execution_count": 78,
   "metadata": {},
   "outputs": [],
   "source": [
    "pred = grid_search.predict(query)"
   ]
  },
  {
   "cell_type": "code",
   "execution_count": 80,
   "metadata": {},
   "outputs": [
    {
     "data": {
      "text/plain": [
       "array([5], dtype=int64)"
      ]
     },
     "execution_count": 80,
     "metadata": {},
     "output_type": "execute_result"
    }
   ],
   "source": [
    "pred"
   ]
  },
  {
   "cell_type": "code",
   "execution_count": 82,
   "metadata": {},
   "outputs": [
    {
     "name": "stdout",
     "output_type": "stream",
     "text": [
      "Fitting 8 folds for each of 80 candidates, totalling 640 fits\n"
     ]
    },
    {
     "name": "stderr",
     "output_type": "stream",
     "text": [
      "[Parallel(n_jobs=-1)]: Using backend LokyBackend with 8 concurrent workers.\n",
      "[Parallel(n_jobs=-1)]: Done  34 tasks      | elapsed:   20.7s\n",
      "[Parallel(n_jobs=-1)]: Done 184 tasks      | elapsed:  1.7min\n",
      "[Parallel(n_jobs=-1)]: Done 434 tasks      | elapsed:  4.4min\n",
      "[Parallel(n_jobs=-1)]: Done 640 out of 640 | elapsed:  6.3min finished\n",
      "C:\\Users\\WIN 10\\Anaconda3\\envs\\unit-4\\lib\\site-packages\\sklearn\\ensemble\\forest.py:246: FutureWarning: The default value of n_estimators will change from 10 in version 0.20 to 100 in 0.22.\n",
      "  \"10 in version 0.20 to 100 in 0.22.\", FutureWarning)\n"
     ]
    },
    {
     "ename": "AttributeError",
     "evalue": "'RandomForestClassifier' object has no attribute 'best_score_'",
     "output_type": "error",
     "traceback": [
      "\u001b[1;31m---------------------------------------------------------------------------\u001b[0m",
      "\u001b[1;31mAttributeError\u001b[0m                            Traceback (most recent call last)",
      "\u001b[1;32m<ipython-input-82-d8be7843ea0a>\u001b[0m in \u001b[0;36m<module>\u001b[1;34m\u001b[0m\n\u001b[0;32m      1\u001b[0m \u001b[0mrfc_test\u001b[0m \u001b[1;33m=\u001b[0m \u001b[0mmodel\u001b[0m\u001b[1;33m(\u001b[0m\u001b[0mrfc\u001b[0m\u001b[1;33m)\u001b[0m\u001b[1;33m\u001b[0m\u001b[0m\n\u001b[1;32m----> 2\u001b[1;33m \u001b[0mrfc\u001b[0m\u001b[1;33m.\u001b[0m\u001b[0mbest_score_\u001b[0m\u001b[1;33m\u001b[0m\u001b[0m\n\u001b[0m",
      "\u001b[1;31mAttributeError\u001b[0m: 'RandomForestClassifier' object has no attribute 'best_score_'"
     ]
    }
   ],
   "source": [
    "rfc_test = model(rfc)\n",
    "r"
   ]
  },
  {
   "cell_type": "code",
   "execution_count": 84,
   "metadata": {},
   "outputs": [
    {
     "data": {
      "text/plain": [
       "0.5446544654465446"
      ]
     },
     "execution_count": 84,
     "metadata": {},
     "output_type": "execute_result"
    }
   ],
   "source": [
    "rfc_test.best_score_"
   ]
  },
  {
   "cell_type": "code",
   "execution_count": 85,
   "metadata": {},
   "outputs": [
    {
     "data": {
      "text/plain": [
       "array([4], dtype=int64)"
      ]
     },
     "execution_count": 85,
     "metadata": {},
     "output_type": "execute_result"
    }
   ],
   "source": [
    "rfc_test.predict(query)"
   ]
  },
  {
   "cell_type": "markdown",
   "metadata": {},
   "source": [
    "## Part 4: Topic Modeling\n",
    "\n",
    "Let's find out what those yelp reviews are saying! :D\n",
    "\n",
    "1. Estimate a LDA topic model of the review text\n",
    "    - Keep the `iterations` parameter at or below 5 to reduce run time\n",
    "    - The `workers` parameter should match the number of physical cores on your machine.\n",
    "2. Create 1-2 visualizations of the results\n",
    "    - You can use the most important 3 words of a topic in relevant visualizations. Refer to yesterday's notebook to extract. \n",
    "3. In markdown, write 1-2 paragraphs of analysis on the results of your topic model\n",
    "\n",
    "__*Note*__: You can pass the DataFrame column of text reviews to gensim. You do not have to use a generator."
   ]
  },
  {
   "cell_type": "code",
   "execution_count": 86,
   "metadata": {
    "collapsed": false,
    "inputHidden": false,
    "outputHidden": false
   },
   "outputs": [],
   "source": [
    "from gensim.models import LdaMulticore\n",
    "from gensim.corpora import Dictionary"
   ]
  },
  {
   "cell_type": "code",
   "execution_count": 89,
   "metadata": {},
   "outputs": [],
   "source": [
    "def tokenize(text):\n",
    "    return([token for token in simple_preprocess(text) if token not in STOPWORDS])\n",
    "\n",
    "def doc_stream(text):\n",
    "    for f in text:\n",
    "        tokens = tokenize(str(f))\n",
    "        yield tokens"
   ]
  },
  {
   "cell_type": "markdown",
   "metadata": {},
   "source": [
    "Learn the vocubalary of the yelp data:"
   ]
  },
  {
   "cell_type": "code",
   "execution_count": 90,
   "metadata": {},
   "outputs": [],
   "source": [
    "id2word = corpora.Dictionary(doc_stream(yelp.text.values))"
   ]
  },
  {
   "cell_type": "markdown",
   "metadata": {},
   "source": [
    "Create a bag of words representation of the entire corpus"
   ]
  },
  {
   "cell_type": "code",
   "execution_count": 91,
   "metadata": {
    "collapsed": false,
    "inputHidden": false,
    "outputHidden": false
   },
   "outputs": [],
   "source": [
    "corpus =  [id2word.doc2bow(text) for text in doc_stream(yelp.text.values)]"
   ]
  },
  {
   "cell_type": "markdown",
   "metadata": {},
   "source": [
    "Your LDA model should be ready for estimation: "
   ]
  },
  {
   "cell_type": "code",
   "execution_count": 96,
   "metadata": {
    "collapsed": false,
    "inputHidden": false,
    "outputHidden": false
   },
   "outputs": [],
   "source": [
    "lda = LdaMulticore(corpus=corpus,\n",
    "                   id2word=id2word,\n",
    "                   iterations=5,\n",
    "                   workers=8,\n",
    "                   num_topics = 5# You can change this parameter\n",
    "                  )"
   ]
  },
  {
   "cell_type": "code",
   "execution_count": 97,
   "metadata": {},
   "outputs": [
    {
     "name": "stdout",
     "output_type": "stream",
     "text": [
      "great food good place like\n",
      "\n",
      "\n",
      "good place food great service\n",
      "\n",
      "\n",
      "food good place like service\n",
      "\n",
      "\n",
      "place food great good service\n",
      "\n",
      "\n",
      "place food great good like\n",
      "\n",
      "\n"
     ]
    }
   ],
   "source": [
    "words = [re.findall(r'\"([^\"]*)\"',t[1]) for t in lda.print_topics()]\n",
    "topics = [' '.join(t[0:10]) for t in words]\n",
    "for t in topics: \n",
    "    print(t)\n",
    "    print(\"\\n\")"
   ]
  },
  {
   "cell_type": "markdown",
   "metadata": {},
   "source": [
    "Create 1-2 visualizations of the results"
   ]
  },
  {
   "cell_type": "code",
   "execution_count": 98,
   "metadata": {
    "collapsed": false,
    "inputHidden": false,
    "outputHidden": false
   },
   "outputs": [
    {
     "name": "stderr",
     "output_type": "stream",
     "text": [
      "C:\\Users\\WIN 10\\Anaconda3\\envs\\unit-4\\lib\\site-packages\\pyLDAvis\\_prepare.py:257: FutureWarning: Sorting because non-concatenation axis is not aligned. A future version\n",
      "of pandas will change to not sort by default.\n",
      "\n",
      "To accept the future behavior, pass 'sort=False'.\n",
      "\n",
      "To retain the current behavior and silence the warning, pass 'sort=True'.\n",
      "\n",
      "  return pd.concat([default_term_info] + list(topic_dfs))\n"
     ]
    },
    {
     "data": {
      "text/html": [
       "\n",
       "<link rel=\"stylesheet\" type=\"text/css\" href=\"https://cdn.rawgit.com/bmabey/pyLDAvis/files/ldavis.v1.0.0.css\">\n",
       "\n",
       "\n",
       "<div id=\"ldavis_el1632412819457768008632351747\"></div>\n",
       "<script type=\"text/javascript\">\n",
       "\n",
       "var ldavis_el1632412819457768008632351747_data = {\"mdsDat\": {\"x\": [-0.00016237630347086578, 0.001422287333869806, -0.003573435839713454, 0.004381736127583057, -0.00206821131826854], \"y\": [0.00042326836557879394, -0.002170751513657645, -0.003059585692067179, 0.0003356557816612836, 0.004471413058484743], \"topics\": [1, 2, 3, 4, 5], \"cluster\": [1, 1, 1, 1, 1], \"Freq\": [20.308809280395508, 20.004594802856445, 19.984622955322266, 19.92794418334961, 19.774032592773438]}, \"tinfo\": {\"Category\": [\"Default\", \"Default\", \"Default\", \"Default\", \"Default\", \"Default\", \"Default\", \"Default\", \"Default\", \"Default\", \"Default\", \"Default\", \"Default\", \"Default\", \"Default\", \"Default\", \"Default\", \"Default\", \"Default\", \"Default\", \"Default\", \"Default\", \"Default\", \"Default\", \"Default\", \"Default\", \"Default\", \"Default\", \"Default\", \"Default\", \"Topic1\", \"Topic1\", \"Topic1\", \"Topic1\", \"Topic1\", \"Topic1\", \"Topic1\", \"Topic1\", \"Topic1\", \"Topic1\", \"Topic1\", \"Topic1\", \"Topic1\", \"Topic1\", \"Topic1\", \"Topic1\", \"Topic1\", \"Topic1\", \"Topic1\", \"Topic1\", \"Topic1\", \"Topic1\", \"Topic1\", \"Topic1\", \"Topic1\", \"Topic1\", \"Topic1\", \"Topic1\", \"Topic1\", \"Topic1\", \"Topic1\", \"Topic1\", \"Topic1\", \"Topic1\", \"Topic1\", \"Topic1\", \"Topic1\", \"Topic1\", \"Topic1\", \"Topic1\", \"Topic1\", \"Topic1\", \"Topic1\", \"Topic1\", \"Topic1\", \"Topic1\", \"Topic1\", \"Topic1\", \"Topic1\", \"Topic1\", \"Topic1\", \"Topic1\", \"Topic1\", \"Topic1\", \"Topic1\", \"Topic1\", \"Topic1\", \"Topic1\", \"Topic1\", \"Topic1\", \"Topic1\", \"Topic1\", \"Topic1\", \"Topic1\", \"Topic1\", \"Topic1\", \"Topic1\", \"Topic1\", \"Topic1\", \"Topic1\", \"Topic1\", \"Topic1\", \"Topic1\", \"Topic1\", \"Topic1\", \"Topic1\", \"Topic1\", \"Topic1\", \"Topic1\", \"Topic1\", \"Topic1\", \"Topic1\", \"Topic1\", \"Topic1\", \"Topic1\", \"Topic2\", \"Topic2\", \"Topic2\", \"Topic2\", \"Topic2\", \"Topic2\", \"Topic2\", \"Topic2\", \"Topic2\", \"Topic2\", \"Topic2\", \"Topic2\", \"Topic2\", \"Topic2\", \"Topic2\", \"Topic2\", \"Topic2\", \"Topic2\", \"Topic2\", \"Topic2\", \"Topic2\", \"Topic2\", \"Topic2\", \"Topic2\", \"Topic2\", \"Topic2\", \"Topic2\", \"Topic2\", \"Topic2\", \"Topic2\", \"Topic2\", \"Topic2\", \"Topic2\", \"Topic2\", \"Topic2\", \"Topic2\", \"Topic2\", \"Topic2\", \"Topic2\", \"Topic2\", \"Topic2\", \"Topic2\", \"Topic2\", \"Topic2\", \"Topic2\", \"Topic2\", \"Topic2\", \"Topic2\", \"Topic2\", \"Topic2\", \"Topic2\", \"Topic2\", \"Topic2\", \"Topic2\", \"Topic2\", \"Topic2\", \"Topic2\", \"Topic2\", \"Topic2\", \"Topic2\", \"Topic2\", \"Topic2\", \"Topic2\", \"Topic2\", \"Topic2\", \"Topic2\", \"Topic2\", \"Topic2\", \"Topic2\", \"Topic2\", \"Topic2\", \"Topic2\", \"Topic2\", \"Topic2\", \"Topic2\", \"Topic2\", \"Topic2\", \"Topic2\", \"Topic2\", \"Topic2\", \"Topic2\", \"Topic2\", \"Topic2\", \"Topic2\", \"Topic2\", \"Topic2\", \"Topic2\", \"Topic2\", \"Topic3\", \"Topic3\", \"Topic3\", \"Topic3\", \"Topic3\", \"Topic3\", \"Topic3\", \"Topic3\", \"Topic3\", \"Topic3\", \"Topic3\", \"Topic3\", \"Topic3\", \"Topic3\", \"Topic3\", \"Topic3\", \"Topic3\", \"Topic3\", \"Topic3\", \"Topic3\", \"Topic3\", \"Topic3\", \"Topic3\", \"Topic3\", \"Topic3\", \"Topic3\", \"Topic3\", \"Topic3\", \"Topic3\", \"Topic3\", \"Topic3\", \"Topic3\", \"Topic3\", \"Topic3\", \"Topic3\", \"Topic3\", \"Topic3\", \"Topic3\", \"Topic3\", \"Topic3\", \"Topic3\", \"Topic3\", \"Topic3\", \"Topic3\", \"Topic3\", \"Topic3\", \"Topic3\", \"Topic3\", \"Topic3\", \"Topic3\", \"Topic3\", \"Topic3\", \"Topic3\", \"Topic3\", \"Topic3\", \"Topic3\", \"Topic3\", \"Topic3\", \"Topic3\", \"Topic3\", \"Topic3\", \"Topic3\", \"Topic3\", \"Topic3\", \"Topic3\", \"Topic3\", \"Topic3\", \"Topic3\", \"Topic3\", \"Topic3\", \"Topic3\", \"Topic3\", \"Topic3\", \"Topic3\", \"Topic3\", \"Topic3\", \"Topic3\", \"Topic3\", \"Topic3\", \"Topic3\", \"Topic3\", \"Topic3\", \"Topic3\", \"Topic3\", \"Topic3\", \"Topic3\", \"Topic4\", \"Topic4\", \"Topic4\", \"Topic4\", \"Topic4\", \"Topic4\", \"Topic4\", \"Topic4\", \"Topic4\", \"Topic4\", \"Topic4\", \"Topic4\", \"Topic4\", \"Topic4\", \"Topic4\", \"Topic4\", \"Topic4\", \"Topic4\", \"Topic4\", \"Topic4\", \"Topic4\", \"Topic4\", \"Topic4\", \"Topic4\", \"Topic4\", \"Topic4\", \"Topic4\", \"Topic4\", \"Topic4\", \"Topic4\", \"Topic4\", \"Topic4\", \"Topic4\", \"Topic4\", \"Topic4\", \"Topic4\", \"Topic4\", \"Topic4\", \"Topic4\", \"Topic4\", \"Topic4\", \"Topic4\", \"Topic4\", \"Topic4\", \"Topic4\", \"Topic4\", \"Topic4\", \"Topic4\", \"Topic4\", \"Topic4\", \"Topic4\", \"Topic4\", \"Topic4\", \"Topic4\", \"Topic4\", \"Topic4\", \"Topic4\", \"Topic4\", \"Topic4\", \"Topic4\", \"Topic4\", \"Topic4\", \"Topic4\", \"Topic4\", \"Topic4\", \"Topic4\", \"Topic4\", \"Topic4\", \"Topic4\", \"Topic4\", \"Topic4\", \"Topic4\", \"Topic4\", \"Topic4\", \"Topic4\", \"Topic4\", \"Topic4\", \"Topic4\", \"Topic4\", \"Topic4\", \"Topic4\", \"Topic4\", \"Topic4\", \"Topic4\", \"Topic4\", \"Topic4\", \"Topic4\", \"Topic4\", \"Topic4\", \"Topic4\", \"Topic4\", \"Topic4\", \"Topic4\", \"Topic4\", \"Topic5\", \"Topic5\", \"Topic5\", \"Topic5\", \"Topic5\", \"Topic5\", \"Topic5\", \"Topic5\", \"Topic5\", \"Topic5\", \"Topic5\", \"Topic5\", \"Topic5\", \"Topic5\", \"Topic5\", \"Topic5\", \"Topic5\", \"Topic5\", \"Topic5\", \"Topic5\", \"Topic5\", \"Topic5\", \"Topic5\", \"Topic5\", \"Topic5\", \"Topic5\", \"Topic5\", \"Topic5\", \"Topic5\", \"Topic5\", \"Topic5\", \"Topic5\", \"Topic5\", \"Topic5\", \"Topic5\", \"Topic5\", \"Topic5\", \"Topic5\", \"Topic5\", \"Topic5\", \"Topic5\", \"Topic5\", \"Topic5\", \"Topic5\", \"Topic5\", \"Topic5\", \"Topic5\", \"Topic5\", \"Topic5\", \"Topic5\", \"Topic5\", \"Topic5\", \"Topic5\", \"Topic5\", \"Topic5\", \"Topic5\", \"Topic5\", \"Topic5\", \"Topic5\", \"Topic5\", \"Topic5\", \"Topic5\", \"Topic5\", \"Topic5\", \"Topic5\", \"Topic5\", \"Topic5\", \"Topic5\", \"Topic5\", \"Topic5\", \"Topic5\", \"Topic5\", \"Topic5\", \"Topic5\", \"Topic5\", \"Topic5\", \"Topic5\", \"Topic5\", \"Topic5\", \"Topic5\", \"Topic5\", \"Topic5\", \"Topic5\", \"Topic5\", \"Topic5\", \"Topic5\", \"Topic5\", \"Topic5\"], \"Freq\": [4071.0, 1382.0, 1964.0, 4577.0, 1393.0, 4810.0, 3500.0, 1355.0, 1656.0, 852.0, 1366.0, 3375.0, 3267.0, 416.0, 922.0, 904.0, 510.0, 1515.0, 912.0, 388.0, 1472.0, 720.0, 1494.0, 446.0, 925.0, 1212.0, 410.0, 1009.0, 835.0, 546.0, 16.922821044921875, 0.7069900631904602, 0.6919222474098206, 1.03240966796875, 0.6823511719703674, 0.6617019176483154, 1.3020583391189575, 0.9694221019744873, 2.211090087890625, 1.2516720294952393, 0.9366901516914368, 2.1812169551849365, 1.241051435470581, 2.769087076187134, 0.612947404384613, 0.9179128408432007, 94.81148529052734, 0.9166168570518494, 2.434260129928589, 0.6079902648925781, 0.6039397716522217, 1.5080859661102295, 1.2065527439117432, 9.2822265625, 0.5972858667373657, 10.751139640808105, 0.5975484848022461, 14.032485961914062, 1.492141842842102, 0.5964192152023315, 187.33079528808594, 6.246326446533203, 91.00660705566406, 4.162836074829102, 26.42876625061035, 25.560806274414062, 25.852886199951172, 266.5975646972656, 36.0872688293457, 110.81552124023438, 142.97853088378906, 141.0844268798828, 113.42607879638672, 229.55764770507812, 52.0994758605957, 226.5285186767578, 318.302490234375, 42.00701904296875, 31.736454010009766, 74.31141662597656, 44.48890686035156, 319.9712829589844, 103.5570297241211, 290.4416198730469, 363.91265869140625, 198.6549530029297, 432.8331604003906, 34.77467727661133, 1009.134765625, 352.9334716796875, 326.7996520996094, 728.3007202148438, 989.263427734375, 152.4237823486328, 745.7810668945312, 199.9669952392578, 93.23876190185547, 147.90069580078125, 319.2177429199219, 794.6994018554688, 299.6397399902344, 268.782470703125, 292.46820068359375, 823.380126953125, 317.1417541503906, 243.28683471679688, 542.2991333007812, 361.99871826171875, 316.20465087890625, 268.0010681152344, 299.955810546875, 259.9648742675781, 270.75732421875, 253.9271240234375, 240.4656982421875, 1.972685694694519, 1.401428461074829, 0.6692028641700745, 1.3372421264648438, 0.9966138005256653, 2.9888792037963867, 69.11319732666016, 0.6560817360877991, 0.6524691581726074, 0.6480717658996582, 1.5939595699310303, 1.5780177116394043, 1.252691626548767, 1.8786840438842773, 2.183379650115967, 1.8698841333389282, 5.285850524902344, 0.6214531064033508, 0.6214999556541443, 0.9224417805671692, 1.2285791635513306, 0.9172965288162231, 33.95182800292969, 0.607245922088623, 0.6072619557380676, 0.9071153998374939, 4.228700637817383, 1.2067328691482544, 162.23536682128906, 2.397113084793091, 137.59519958496094, 112.85507202148438, 24.56369400024414, 405.1326599121094, 50.93056106567383, 65.54936981201172, 40.26517868041992, 25.078203201293945, 32.95786666870117, 132.1759490966797, 38.54526138305664, 49.642120361328125, 66.01040649414062, 82.20063781738281, 886.0779418945312, 114.1505126953125, 152.29281616210938, 64.78575134277344, 222.0348358154297, 14.30665397644043, 12.087966918945312, 116.29439544677734, 1028.3515625, 186.7109375, 913.2052612304688, 114.07491302490234, 162.00399780273438, 726.1844482421875, 746.5083618164062, 1025.9747314453125, 285.1716613769531, 163.27793884277344, 166.8571319580078, 318.7058410644531, 430.6897888183594, 268.0018310546875, 890.1859130859375, 216.20138549804688, 240.52676391601562, 213.14508056640625, 321.396728515625, 168.3501739501953, 252.93905639648438, 365.0074462890625, 336.4571228027344, 315.8299255371094, 225.05706787109375, 293.7543029785156, 277.76226806640625, 304.7145080566406, 192.79946899414062, 252.2956085205078, 247.4005126953125, 250.85128784179688, 249.03199768066406, 255.40650939941406, 242.08399963378906, 234.3252410888672, 4.173716068267822, 0.7504116296768188, 0.7228575348854065, 0.7219132781028748, 0.6769214272499084, 1.0104507207870483, 0.6703876256942749, 0.666946291923523, 1.6230006217956543, 2.884185314178467, 0.959915816783905, 1.5485140085220337, 15.468575477600098, 0.9204636216163635, 1.5189076662063599, 1.210257649421692, 3.0321805477142334, 3.020359992980957, 2.416670799255371, 0.9033938646316528, 3.901540756225586, 0.9001038670539856, 0.599338948726654, 2.098651647567749, 25.397266387939453, 4.17216682434082, 0.5947216749191284, 2.668231725692749, 0.593184232711792, 1.7781697511672974, 119.94414520263672, 14.207364082336426, 7.108311176300049, 13.746132850646973, 5.020694255828857, 266.8001403808594, 87.05194854736328, 260.14794921875, 36.3405876159668, 45.181427001953125, 188.80203247070312, 379.032470703125, 112.50146484375, 225.18983459472656, 202.3497314453125, 19.169004440307617, 447.154296875, 31.35719871520996, 29.06247901916504, 54.86709976196289, 121.89412689208984, 110.9113998413086, 69.52772521972656, 284.7506103515625, 133.9918975830078, 942.3209838867188, 302.0622863769531, 388.57110595703125, 273.4866638183594, 225.70748901367188, 156.71343994140625, 266.3560791015625, 329.6390075683594, 245.3683624267578, 104.81654357910156, 206.37811279296875, 326.7204284667969, 654.063232421875, 668.5332641601562, 253.846923828125, 857.4271850585938, 268.47235107421875, 882.2880859375, 356.22088623046875, 644.4581298828125, 374.6428527832031, 773.1541137695312, 299.23321533203125, 298.6793518066406, 248.4896697998047, 276.9557189941406, 249.62619018554688, 299.4820251464844, 242.4493408203125, 249.25291442871094, 250.50372314453125, 0.7521180510520935, 1.0271196365356445, 2.3197953701019287, 1.3214836120605469, 2.633592128753662, 0.9745816588401794, 2.5970399379730225, 0.6439696550369263, 0.6410636901855469, 0.9517101049423218, 3.795320510864258, 4.101279258728027, 0.9427919387817383, 0.6253125071525574, 0.6243797540664673, 1.8607091903686523, 0.6202701926231384, 0.9268983006477356, 0.6180924773216248, 31.39653778076172, 0.6084110140800476, 10.005258560180664, 1.2120604515075684, 0.9082438945770264, 1.5120140314102173, 0.6037147641181946, 0.6011262536048889, 0.9018192887306213, 0.6000425815582275, 9.896060943603516, 130.9507598876953, 60.04840850830078, 42.382076263427734, 79.81450653076172, 27.174312591552734, 45.37966537475586, 36.01620101928711, 114.39720916748047, 8.837116241455078, 194.45733642578125, 538.1729736328125, 90.58173370361328, 113.01129913330078, 41.25810623168945, 28.818012237548828, 130.02134704589844, 15.782947540283203, 63.264495849609375, 394.5603942871094, 38.09671401977539, 242.6814422607422, 334.9212646484375, 115.87983703613281, 1049.010498046875, 934.11181640625, 52.49825668334961, 123.61219787597656, 90.55211639404297, 102.06914520263672, 101.39739990234375, 54.993961334228516, 142.18177795410156, 241.68350219726562, 133.66558837890625, 704.8955688476562, 308.26434326171875, 939.2064208984375, 666.328369140625, 170.82699584960938, 329.7510070800781, 309.8907470703125, 152.8830108642578, 256.9467468261719, 290.44757080078125, 810.8849487304688, 246.1690673828125, 294.3970031738281, 365.46502685546875, 324.9584045410156, 581.6871337890625, 321.4485778808594, 191.97189331054688, 192.806884765625, 219.37098693847656, 203.69776916503906, 224.2211456298828, 233.26722717285156, 250.2727508544922, 216.47010803222656, 251.0948486328125, 242.9027862548828, 251.45681762695312, 221.75732421875, 223.3840789794922, 3.025064468383789, 0.7295131087303162, 1.0148324966430664, 1.0106992721557617, 4.352255344390869, 1.002758264541626, 0.665382981300354, 0.6616302728652954, 0.9743861556053162, 0.6284381151199341, 0.624914288520813, 0.6223176121711731, 0.6152192950248718, 11.081402778625488, 8.609713554382324, 5.211411952972412, 2.1462104320526123, 0.6123436689376831, 25.100730895996094, 6.380977153778076, 0.904447078704834, 0.6030645370483398, 0.5993621349334717, 0.8945285677909851, 0.5943602919578552, 0.8912035822868347, 82.27680969238281, 0.5932704210281372, 0.8874726891517639, 0.5911319851875305, 252.5802459716797, 6.986398220062256, 5.782196998596191, 71.864501953125, 5.774833679199219, 5.4809370040893555, 117.08415222167969, 75.6597900390625, 134.21615600585938, 46.52652359008789, 83.89728546142578, 8.813291549682617, 135.5604705810547, 40.67704772949219, 167.46644592285156, 177.74423217773438, 28.515399932861328, 357.0364074707031, 348.6617126464844, 177.12545776367188, 193.25314331054688, 1139.955078125, 119.05496215820312, 143.58969116210938, 362.8148193359375, 46.120548248291016, 117.43771362304688, 163.83094787597656, 63.43699645996094, 987.7055053710938, 319.58251953125, 351.61932373046875, 310.7510070800781, 713.2808227539062, 258.8523254394531, 213.68772888183594, 179.06307983398438, 234.89865112304688, 305.39947509765625, 642.6075439453125, 344.2984619140625, 336.6763916015625, 738.171630859375, 286.58526611328125, 254.52008056640625, 292.0465393066406, 222.31619262695312, 492.2830505371094, 298.646240234375, 272.318115234375, 333.7297058105469, 486.85797119140625, 251.5954132080078, 226.85462951660156, 284.9366455078125, 234.12109375, 235.41094970703125, 241.16860961914062], \"Term\": [\"great\", \"restaurant\", \"got\", \"place\", \"come\", \"food\", \"service\", \"people\", \"best\", \"think\", \"try\", \"like\", \"time\", \"far\", \"sure\", \"night\", \"friend\", \"staff\", \"bar\", \"won\", \"came\", \"drinks\", \"order\", \"review\", \"told\", \"menu\", \"town\", \"want\", \"minutes\", \"free\", \"yuk\", \"outbacks\", \"excepts\", \"thi\", \"jeffery\", \"kristy\", \"jumpy\", \"advisors\", \"disposal\", \"ebenezer\", \"numbed\", \"pierogi\", \"puffs\", \"pond\", \"weedays\", \"tulips\", \"working\", \"kouign\", \"referral\", \"diwali\", \"meth\", \"sweepstakes\", \"fires\", \"pants\", \"pruitt\", \"jack\", \"fandom\", \"strips\", \"keen\", \"tn\", \"drink\", \"sont\", \"appointment\", \"photographer\", \"pad\", \"veggie\", \"juice\", \"sure\", \"tuna\", \"kids\", \"line\", \"let\", \"enjoyed\", \"customer\", \"pleasant\", \"minutes\", \"experience\", \"delivery\", \"shared\", \"reasonable\", \"minute\", \"amazing\", \"able\", \"day\", \"ordered\", \"cheese\", \"ve\", \"certainly\", \"good\", \"came\", \"try\", \"time\", \"place\", \"look\", \"service\", \"times\", \"phone\", \"left\", \"went\", \"great\", \"chicken\", \"menu\", \"people\", \"food\", \"staff\", \"better\", \"like\", \"got\", \"best\", \"friendly\", \"nice\", \"definitely\", \"love\", \"order\", \"little\", \"davee\", \"visite\", \"daaayyuuummm\", \"outer\", \"unimpressive\", \"buttered\", \"card\", \"\\u3068\\u3066\\u3082\\u6c17\\u306b\\u5165\\u308a\\u307e\\u3057\\u305f\", \"kashi\", \"adrianna\", \"pottery\", \"flush\", \"yu\", \"shula\", \"hose\", \"bargains\", \"airlines\", \"slooooow\", \"veggys\", \"h\\u00f4te\", \"kahuku\", \"gourmandine\", \"true\", \"waisting\", \"unite\", \"noel\", \"hakka\", \"mouthgasms\", \"friend\", \"struggled\", \"kind\", \"pork\", \"american\", \"restaurant\", \"authentic\", \"la\", \"oil\", \"gel\", \"center\", \"review\", \"treated\", \"sign\", \"glad\", \"worst\", \"service\", \"shop\", \"meat\", \"taking\", \"eat\", \"learned\", \"regularly\", \"special\", \"place\", \"area\", \"great\", \"half\", \"worth\", \"time\", \"like\", \"food\", \"delicious\", \"wanted\", \"awesome\", \"come\", \"got\", \"said\", \"good\", \"price\", \"pretty\", \"took\", \"order\", \"meal\", \"know\", \"ve\", \"nice\", \"love\", \"want\", \"ordered\", \"went\", \"best\", \"times\", \"amazing\", \"friendly\", \"try\", \"definitely\", \"came\", \"chicken\", \"staff\", \"halo\", \"bods\", \"elotes\", \"everrrrr\", \"avarage\", \"crews\", \"abiance\", \"turon\", \"hoagies\", \"rode\", \"mixer\", \"spago\", \"rocks\", \"woop\", \"rx\", \"quiznos\", \"polished\", \"kathy\", \"cotton\", \"swordfish\", \"unorganized\", \"studded\", \"sabatino\", \"ahwatukee\", \"bigger\", \"ihop\", \"engages\", \"sammy\", \"suadero\", \"morels\", \"pm\", \"wynn\", \"meatball\", \"central\", \"rules\", \"bar\", \"party\", \"night\", \"staying\", \"son\", \"excellent\", \"people\", \"won\", \"bit\", \"drinks\", \"cheesecake\", \"best\", \"repair\", \"craving\", \"floor\", \"beef\", \"hours\", \"charge\", \"know\", \"tasty\", \"great\", \"menu\", \"love\", \"recommend\", \"room\", \"hot\", \"way\", \"restaurant\", \"right\", \"couple\", \"vegas\", \"ordered\", \"time\", \"like\", \"going\", \"good\", \"delicious\", \"food\", \"nice\", \"service\", \"ve\", \"place\", \"definitely\", \"went\", \"new\", \"staff\", \"experience\", \"got\", \"day\", \"little\", \"came\", \"neil\", \"melinda\", \"debi\", \"donair\", \"resume\", \"vail\", \"suzi\", \"livraison\", \"penetrated\", \"checkup\", \"figures\", \"ha\", \"brice\", \"bensimon\", \"turds\", \"imax\", \"itech\", \"thompson\", \"darlene\", \"lucky\", \"cigarets\", \"welcomed\", \"neuter\", \"fitforabride\", \"craigslist\", \"ch\\u00e8re\", \"stabbed\", \"andre\", \"dayvid\", \"trim\", \"far\", \"haven\", \"color\", \"dr\", \"provide\", \"products\", \"pho\", \"hair\", \"breast\", \"clean\", \"got\", \"customers\", \"tell\", \"desk\", \"paper\", \"getting\", \"ground\", \"knew\", \"staff\", \"play\", \"told\", \"friendly\", \"pay\", \"place\", \"great\", \"park\", \"money\", \"wrong\", \"won\", \"helpful\", \"weeks\", \"sweet\", \"want\", \"rice\", \"like\", \"little\", \"food\", \"time\", \"happy\", \"order\", \"come\", \"thing\", \"day\", \"chicken\", \"good\", \"better\", \"definitely\", \"ve\", \"love\", \"service\", \"nice\", \"asked\", \"eat\", \"pretty\", \"wait\", \"said\", \"experience\", \"went\", \"way\", \"came\", \"ordered\", \"best\", \"amazing\", \"try\", \"beatles\", \"tellers\", \"renamed\", \"matthew\", \"foodies\", \"vege\", \"luxuriously\", \"imcomplete\", \"unforgettable\", \"jina\", \"chkn\", \"golfweek\", \"maycayos\", \"coupons\", \"reserve\", \"barbers\", \"teller\", \"reasonablely\", \"parts\", \"depot\", \"prius\", \"offender\", \"vivacious\", \"hometeam\", \"clickers\", \"senator\", \"attentive\", \"limeade\", \"mercury\", \"ironman\", \"think\", \"emails\", \"acknowledge\", \"fact\", \"quotes\", \"stunning\", \"town\", \"sit\", \"actually\", \"unique\", \"makes\", \"cleaner\", \"fried\", \"charged\", \"prices\", \"salad\", \"nicely\", \"come\", \"try\", \"store\", \"home\", \"food\", \"dish\", \"free\", \"came\", \"tender\", \"bread\", \"need\", \"space\", \"good\", \"little\", \"order\", \"chicken\", \"like\", \"new\", \"fresh\", \"long\", \"right\", \"restaurant\", \"service\", \"nice\", \"best\", \"place\", \"definitely\", \"menu\", \"staff\", \"pretty\", \"time\", \"love\", \"went\", \"got\", \"great\", \"people\", \"better\", \"ve\", \"experience\", \"amazing\", \"ordered\"], \"Total\": [4071.0, 1382.0, 1964.0, 4577.0, 1393.0, 4810.0, 3500.0, 1355.0, 1656.0, 852.0, 1366.0, 3375.0, 3267.0, 416.0, 922.0, 904.0, 510.0, 1515.0, 912.0, 388.0, 1472.0, 720.0, 1494.0, 446.0, 925.0, 1212.0, 410.0, 1009.0, 835.0, 546.0, 43.450538635253906, 1.888951063156128, 1.8909790515899658, 2.837008237838745, 1.8907910585403442, 1.890979290008545, 3.779989004135132, 2.8360483646392822, 6.617213249206543, 3.7823381423950195, 2.83803129196167, 6.618778228759766, 3.7846994400024414, 8.515227317810059, 1.8919124603271484, 2.839282751083374, 293.326904296875, 2.8372819423675537, 7.564820766448975, 1.8903343677520752, 1.892162561416626, 4.7294769287109375, 3.7844886779785156, 29.32561683654785, 1.891148567199707, 34.044761657714844, 1.8922524452209473, 44.46241760253906, 4.732088565826416, 1.8918590545654297, 611.0975341796875, 19.861291885375977, 297.8977966308594, 13.23910903930664, 86.1332778930664, 83.30709838867188, 85.14381408691406, 922.2525024414062, 120.16851043701172, 384.3023986816406, 502.7244873046875, 499.7398376464844, 400.29730224609375, 837.3064575195312, 178.96438598632812, 835.780517578125, 1227.484619140625, 145.73194885253906, 108.84134674072266, 267.74456787109375, 156.1591339111328, 1273.60595703125, 384.3788757324219, 1151.5531005859375, 1468.4588623046875, 785.33544921875, 1822.8851318359375, 121.15708923339844, 4555.33837890625, 1472.7532958984375, 1366.6051025390625, 3267.15966796875, 4577.951171875, 596.6749267578125, 3500.61181640625, 824.5560302734375, 351.3128967285156, 591.1555786132812, 1418.2501220703125, 4071.1953125, 1340.339599609375, 1212.10400390625, 1355.188720703125, 4810.8046875, 1515.0296630859375, 1106.1048583984375, 3375.51708984375, 1964.0732421875, 1656.2066650390625, 1319.317626953125, 1658.380859375, 1389.21240234375, 1598.7630615234375, 1494.918212890625, 1338.7021484375, 4.735589504241943, 3.7885100841522217, 1.8937618732452393, 3.7887566089630127, 2.8401010036468506, 8.52741527557373, 198.96034240722656, 1.8944779634475708, 1.8953944444656372, 1.8944169282913208, 4.734174728393555, 4.735669136047363, 3.7886884212493896, 5.683446407318115, 6.627828598022461, 5.6850786209106445, 16.09589385986328, 1.8943777084350586, 1.8947291374206543, 2.841503143310547, 3.7911322116851807, 2.8380374908447266, 105.14583587646484, 1.894726037979126, 1.8952951431274414, 2.8430445194244385, 13.25556755065918, 3.790557861328125, 510.812744140625, 7.58415412902832, 446.4214782714844, 365.5533752441406, 78.62226104736328, 1382.67724609375, 166.82508850097656, 215.90679931640625, 131.6990509033203, 81.44172668457031, 107.97555541992188, 446.11468505859375, 126.92567443847656, 169.6461181640625, 232.0762939453125, 291.767578125, 3500.61181640625, 412.9412841796875, 564.961669921875, 230.2710418701172, 842.299560546875, 47.39655303955078, 39.764408111572266, 439.6354064941406, 4577.951171875, 732.9368286132812, 4071.1953125, 435.5083312988281, 637.67919921875, 3267.15966796875, 3375.51708984375, 4810.8046875, 1193.526611328125, 648.0023803710938, 665.5677490234375, 1393.70751953125, 1964.0732421875, 1147.51318359375, 4555.33837890625, 904.966552734375, 1029.4619140625, 897.955322265625, 1494.918212890625, 686.2908935546875, 1136.13232421875, 1822.8851318359375, 1658.380859375, 1598.7630615234375, 1009.0410766601562, 1468.4588623046875, 1418.2501220703125, 1656.2066650390625, 824.5560302734375, 1273.60595703125, 1319.317626953125, 1366.6051025390625, 1389.21240234375, 1472.7532958984375, 1340.339599609375, 1515.0296630859375, 10.432632446289062, 1.8965983390808105, 1.897766351699829, 1.8991870880126953, 1.8982489109039307, 2.8462586402893066, 1.8966814279556274, 1.8971060514450073, 4.744997501373291, 8.532258987426758, 2.845520496368408, 4.7396559715271, 47.40052032470703, 2.8449769020080566, 4.740840911865234, 3.7871975898742676, 9.4885835647583, 9.478208541870117, 7.5855278968811035, 2.845637798309326, 12.325444221496582, 2.8443143367767334, 1.894478440284729, 6.640334129333496, 80.73262023925781, 13.290132522583008, 1.897263765335083, 8.529756546020508, 1.8971164226531982, 5.688386917114258, 385.8898010253906, 45.51170349121094, 22.763912200927734, 44.54259490966797, 16.11724090576172, 912.1930541992188, 294.1696472167969, 904.423583984375, 121.38772583007812, 151.6563720703125, 658.0586547851562, 1355.188720703125, 388.110107421875, 796.97216796875, 720.50732421875, 63.54436492919922, 1656.2066650390625, 106.1058578491211, 99.5839614868164, 194.54637145996094, 456.5160217285156, 413.879150390625, 252.07383728027344, 1136.13232421875, 509.7161865234375, 4071.1953125, 1212.10400390625, 1598.7630615234375, 1102.58203125, 898.3919067382812, 611.292724609375, 1090.0989990234375, 1382.67724609375, 1015.5911865234375, 400.9481201171875, 867.405517578125, 1468.4588623046875, 3267.15966796875, 3375.51708984375, 1116.489990234375, 4555.33837890625, 1193.526611328125, 4810.8046875, 1658.380859375, 3500.61181640625, 1822.8851318359375, 4577.951171875, 1389.21240234375, 1418.2501220703125, 1111.435302734375, 1515.0296630859375, 1227.484619140625, 1964.0732421875, 1151.5531005859375, 1338.7021484375, 1472.7532958984375, 1.8953343629837036, 2.8470444679260254, 6.639169216156006, 3.790364980697632, 7.575765132904053, 2.8458893299102783, 7.588841438293457, 1.8957512378692627, 1.8981328010559082, 2.8459770679473877, 11.370919227600098, 12.334562301635742, 2.842578887939453, 1.8966659307479858, 1.8977915048599243, 5.688926696777344, 1.8976082801818848, 2.845153331756592, 1.8999818563461304, 97.68338012695312, 1.8984756469726562, 31.300413131713867, 3.7958121299743652, 2.8452649116516113, 4.739781379699707, 1.8965564966201782, 1.8945133686065674, 2.8458871841430664, 1.8971545696258545, 31.29534149169922, 416.67413330078125, 192.52413940429688, 135.55712890625, 258.7415771484375, 87.19822692871094, 146.85079956054688, 116.5231704711914, 387.91424560546875, 28.472705841064453, 677.796875, 1964.0732421875, 313.12371826171875, 393.9161682128906, 139.43226623535156, 96.71356201171875, 468.8499755859375, 52.21541213989258, 222.05125427246094, 1515.0296630859375, 131.8004913330078, 925.573486328125, 1319.317626953125, 426.8636169433594, 4577.951171875, 4071.1953125, 186.8652801513672, 471.4472961425781, 339.1152648925781, 388.110107421875, 386.6601257324219, 199.01292419433594, 560.9949951171875, 1009.0410766601562, 527.990478515625, 3375.51708984375, 1338.7021484375, 4810.8046875, 3267.15966796875, 697.439453125, 1494.918212890625, 1393.70751953125, 620.9872436523438, 1151.5531005859375, 1340.339599609375, 4555.33837890625, 1106.1048583984375, 1389.21240234375, 1822.8851318359375, 1598.7630615234375, 3500.61181640625, 1658.380859375, 834.9774169921875, 842.299560546875, 1029.4619140625, 967.1140747070312, 1147.51318359375, 1227.484619140625, 1418.2501220703125, 1090.0989990234375, 1472.7532958984375, 1468.4588623046875, 1656.2066650390625, 1273.60595703125, 1366.6051025390625, 7.601018905639648, 1.9015343189239502, 2.848984956741333, 2.848942518234253, 12.348520278930664, 2.8512203693389893, 1.9009535312652588, 1.9006191492080688, 2.8493244647979736, 1.8994158506393433, 1.8992279767990112, 1.8986175060272217, 1.8982133865356445, 34.19348907470703, 26.571304321289062, 16.13348388671875, 6.644335746765137, 1.898150086402893, 77.83351135253906, 19.951122283935547, 2.8450255393981934, 1.899735927581787, 1.8987305164337158, 2.8456368446350098, 1.8973588943481445, 2.847440004348755, 263.01275634765625, 1.8987795114517212, 2.8473057746887207, 1.8978004455566406, 852.8291625976562, 22.79827308654785, 18.975261688232422, 248.60198974609375, 18.997644424438477, 18.045364379882812, 410.855712890625, 263.85040283203125, 479.1072082519531, 162.2147216796875, 297.91595458984375, 29.411500930786133, 495.28594970703125, 143.36082458496094, 626.151611328125, 670.371337890625, 99.65982055664062, 1393.70751953125, 1366.6051025390625, 670.04736328125, 736.384033203125, 4810.8046875, 446.8395690917969, 546.99169921875, 1472.7532958984375, 165.1714630126953, 446.68267822265625, 641.876708984375, 233.4308319091797, 4555.33837890625, 1338.7021484375, 1494.918212890625, 1340.339599609375, 3375.51708984375, 1111.435302734375, 902.3795166015625, 742.6170654296875, 1015.5911865234375, 1382.67724609375, 3500.61181640625, 1658.380859375, 1656.2066650390625, 4577.951171875, 1389.21240234375, 1212.10400390625, 1515.0296630859375, 1029.4619140625, 3267.15966796875, 1598.7630615234375, 1418.2501220703125, 1964.0732421875, 4071.1953125, 1355.188720703125, 1106.1048583984375, 1822.8851318359375, 1227.484619140625, 1273.60595703125, 1468.4588623046875], \"loglift\": [30.0, 29.0, 28.0, 27.0, 26.0, 25.0, 24.0, 23.0, 22.0, 21.0, 20.0, 19.0, 18.0, 17.0, 16.0, 15.0, 14.0, 13.0, 12.0, 11.0, 10.0, 9.0, 8.0, 7.0, 6.0, 5.0, 4.0, 3.0, 2.0, 1.0, 0.651199996471405, 0.6114000082015991, 0.588699996471405, 0.583299994468689, 0.5748999714851379, 0.5440999865531921, 0.5282999873161316, 0.5206000208854675, 0.49790000915527344, 0.48829999566078186, 0.48559999465942383, 0.48410001397132874, 0.47909998893737793, 0.4708000123500824, 0.46709999442100525, 0.4648999869823456, 0.46470001339912415, 0.4641999900341034, 0.4602000117301941, 0.45980000495910645, 0.45210000872612, 0.4510999917984009, 0.45100000500679016, 0.4438000023365021, 0.4415999948978424, 0.4415000081062317, 0.4413999915122986, 0.4408000111579895, 0.4399999976158142, 0.43970000743865967, 0.4117000102996826, 0.4372999966144562, 0.4083000123500824, 0.43709999322891235, 0.41269999742507935, 0.41260001063346863, 0.40220001339912415, 0.3529999852180481, 0.3912000060081482, 0.350600004196167, 0.3368000090122223, 0.3294000029563904, 0.33309999108314514, 0.3000999987125397, 0.36010000109672546, 0.28859999775886536, 0.2443999946117401, 0.35019999742507935, 0.36169999837875366, 0.3122999966144562, 0.3384999930858612, 0.2126999944448471, 0.2825999855995178, 0.2167000025510788, 0.19910000264644623, 0.21960000693798065, 0.15629999339580536, 0.3458999991416931, 0.0869000032544136, 0.1655000001192093, 0.16339999437332153, 0.09319999814033508, 0.06210000067949295, 0.22939999401569366, 0.0478999987244606, 0.17739999294281006, 0.26759999990463257, 0.2085999995470047, 0.10279999673366547, -0.03959999978542328, 0.09600000083446503, 0.08789999783039093, 0.06080000102519989, -0.17110000550746918, 0.030300000682473183, 0.07980000227689743, -0.23440000414848328, -0.09700000286102295, -0.061799999326467514, 0.00019999999494757503, -0.11580000072717667, -0.08179999887943268, -0.18160000443458557, -0.17870000004768372, -0.12280000001192093, 0.7335000038146973, 0.6147000193595886, 0.5690000057220459, 0.567799985408783, 0.5619999766349792, 0.5608000159263611, 0.551800012588501, 0.548799991607666, 0.5428000092506409, 0.5364999771118164, 0.5206000208854675, 0.5102999806404114, 0.5024999976158142, 0.5022000074386597, 0.49880000948905945, 0.49720001220703125, 0.49570000171661377, 0.49459999799728394, 0.4945000112056732, 0.48410001397132874, 0.48240000009536743, 0.4797999858856201, 0.4787999987602234, 0.47130000591278076, 0.47099998593330383, 0.4668000042438507, 0.4666999876499176, 0.46459999680519104, 0.46230000257492065, 0.45739999413490295, 0.43230000138282776, 0.43389999866485596, 0.4458000063896179, 0.3815999925136566, 0.4226999878883362, 0.4171999990940094, 0.42419999837875366, 0.43130001425743103, 0.42250001430511475, 0.3928000032901764, 0.4174000024795532, 0.38029998540878296, 0.35199999809265137, 0.3424000144004822, 0.2353000044822693, 0.32339999079704285, 0.29829999804496765, 0.3409999907016754, 0.2759000062942505, 0.4113999903202057, 0.41839998960494995, 0.2793999910354614, 0.11590000241994858, 0.24169999361038208, 0.1145000010728836, 0.2694999873638153, 0.23899999260902405, 0.10530000180006027, 0.10029999911785126, 0.06400000303983688, 0.17759999632835388, 0.23080000281333923, 0.2257000058889389, 0.13379999995231628, 0.09179999679327011, 0.15479999780654907, -0.023399999365210533, 0.17749999463558197, 0.15520000457763672, 0.17110000550746918, 0.07209999859333038, 0.20399999618530273, 0.10700000077486038, 0.0010000000474974513, 0.014100000262260437, -0.012600000016391277, 0.1088000014424324, -0.0, -0.021199999377131462, -0.08370000123977661, 0.15600000321865082, -0.009800000116229057, -0.06469999998807907, -0.0860000029206276, -0.10970000177621841, -0.1428000032901764, -0.10220000147819519, -0.2572999894618988, 0.694100022315979, 0.6830000281333923, 0.6449999809265137, 0.6428999900817871, 0.5791000127792358, 0.5745999813079834, 0.5702000260353088, 0.5648000240325928, 0.5374000072479248, 0.525600016117096, 0.5235999822616577, 0.49149999022483826, 0.4903999865055084, 0.48179998993873596, 0.47200000286102295, 0.46939998865127563, 0.46939998865127563, 0.4666000008583069, 0.46639999747276306, 0.462799996137619, 0.45989999175071716, 0.4596000015735626, 0.4593000113964081, 0.45829999446868896, 0.4537000060081482, 0.45159998536109924, 0.45010000467300415, 0.4481000006198883, 0.44760000705718994, 0.4474000036716461, 0.4417000114917755, 0.44600000977516174, 0.4462999999523163, 0.4345000088214874, 0.4438999891281128, 0.38089999556541443, 0.39259999990463257, 0.36419999599456787, 0.4041999876499176, 0.3993000090122223, 0.36160001158714294, 0.3361000120639801, 0.3718999922275543, 0.34630000591278076, 0.3402000069618225, 0.41179999709129333, 0.30079999566078186, 0.3912000060081482, 0.37869998812675476, 0.34450000524520874, 0.2897000014781952, 0.29339998960494995, 0.3222000002861023, 0.2264000028371811, 0.27410000562667847, 0.1468999981880188, 0.2206999957561493, 0.195700004696846, 0.21610000729560852, 0.2287999987602234, 0.249099999666214, 0.20100000500679016, 0.17640000581741333, 0.18970000743865967, 0.2685999870300293, 0.17440000176429749, 0.10729999840259552, 0.0017000000225380063, -0.008999999612569809, 0.1289999932050705, -0.05990000069141388, 0.11829999834299088, -0.08590000122785568, 0.0722000002861023, -0.08209999650716782, 0.02800000086426735, -0.16830000281333923, 0.07490000128746033, 0.052400000393390656, 0.11219999939203262, -0.08910000324249268, 0.017400000244379044, -0.2705000042915344, 0.05209999904036522, -0.07079999893903732, -0.16120000183582306, 0.6887999773025513, 0.593500018119812, 0.5615000128746033, 0.5593000054359436, 0.5564000010490417, 0.5414000153541565, 0.5407000184059143, 0.53329998254776, 0.5275999903678894, 0.5175999999046326, 0.5157999992370605, 0.511900007724762, 0.5094000101089478, 0.5034000277519226, 0.5013999938964844, 0.49549999833106995, 0.4948999881744385, 0.49149999022483826, 0.4900999963283539, 0.4779999852180481, 0.47510001063346863, 0.4724999964237213, 0.4715000092983246, 0.47110000252723694, 0.47049999237060547, 0.4684000015258789, 0.4650999903678894, 0.46380001306533813, 0.461899995803833, 0.4616999924182892, 0.45559999346733093, 0.4480000138282776, 0.4503999948501587, 0.43689998984336853, 0.4471000134944916, 0.43869999051094055, 0.4388999938964844, 0.3919000029563904, 0.4431000053882599, 0.3643999993801117, 0.31850001215934753, 0.3727000057697296, 0.3643999993801117, 0.3953000009059906, 0.40230000019073486, 0.3305000066757202, 0.41659998893737793, 0.35749998688697815, 0.26759999990463257, 0.3718999922275543, 0.274399995803833, 0.24210000038146973, 0.3091000020503998, 0.1395999938249588, 0.14100000262260437, 0.3434000015258789, 0.274399995803833, 0.29260000586509705, 0.2773999869823456, 0.2745000123977661, 0.32690000534057617, 0.24040000140666962, 0.18389999866485596, 0.23929999768733978, 0.046799998730421066, 0.1445000022649765, -0.020500000566244125, 0.02319999970495701, 0.20630000531673431, 0.10159999877214432, 0.10949999839067459, 0.21140000224113464, 0.11299999803304672, 0.08380000293254852, -0.11289999634027481, 0.11050000041723251, 0.061500001698732376, 0.006000000052154064, 0.01979999989271164, -0.18170000612735748, -0.027699999511241913, 0.14300000667572021, 0.13860000669956207, 0.06700000166893005, 0.055399999022483826, -0.019700000062584877, -0.04749999940395355, -0.12160000205039978, -0.0035000001080334187, -0.15600000321865082, -0.18629999458789825, -0.2720000147819519, -0.13500000536441803, -0.1981000006198883, 0.6995000243186951, 0.6628000140190125, 0.5885999798774719, 0.5845000147819519, 0.578000009059906, 0.5758000016212463, 0.5710999965667725, 0.5655999779701233, 0.5478000044822693, 0.5146999955177307, 0.5091999769210815, 0.5054000020027161, 0.49410000443458557, 0.49399998784065247, 0.49390000104904175, 0.49079999327659607, 0.49070000648498535, 0.4894999861717224, 0.48910000920295715, 0.48080000281333923, 0.4747999906539917, 0.4733999967575073, 0.4677000045776367, 0.4636000096797943, 0.460099995136261, 0.459199994802475, 0.4587000012397766, 0.45750001072883606, 0.45500001311302185, 0.4544000029563904, 0.40400001406669617, 0.43810001015663147, 0.4323999881744385, 0.3797000050544739, 0.4300000071525574, 0.4291999936103821, 0.36550000309944153, 0.3716999888420105, 0.3483000099658966, 0.3718999922275543, 0.35359999537467957, 0.4156999886035919, 0.32510000467300415, 0.3610999882221222, 0.3019999861717224, 0.29330000281333923, 0.3695000112056732, 0.258899986743927, 0.2547999918460846, 0.29030001163482666, 0.2831000089645386, 0.1808999925851822, 0.29820001125335693, 0.2833000123500824, 0.21979999542236328, 0.3450999855995178, 0.2849000096321106, 0.25519999861717224, 0.3179999887943268, 0.09210000187158585, 0.188400000333786, 0.17350000143051147, 0.1590999960899353, 0.06639999896287918, 0.16369999945163727, 0.18029999732971191, 0.19840000569820404, 0.156700000166893, 0.11060000211000443, -0.07440000027418137, 0.048700001090765, 0.02759999968111515, -0.20399999618530273, 0.04230000078678131, 0.060100000351667404, -0.025499999523162842, 0.08810000121593475, -0.2718000113964081, -0.05689999833703041, -0.029400000348687172, -0.15160000324249268, -0.5029000043869019, -0.06310000270605087, 0.0364999994635582, -0.23510000109672546, -0.03610000014305115, -0.06750000268220901, -0.18569999933242798], \"logprob\": [30.0, 29.0, 28.0, 27.0, 26.0, 25.0, 24.0, 23.0, 22.0, 21.0, 20.0, 19.0, 18.0, 17.0, 16.0, 15.0, 14.0, 13.0, 12.0, 11.0, 10.0, 9.0, 8.0, 7.0, 6.0, 5.0, 4.0, 3.0, 2.0, 1.0, -8.659799575805664, -11.835200309753418, -11.85669994354248, -11.456600189208984, -11.870699882507324, -11.901399612426758, -11.224499702453613, -11.519499778747559, -10.694999694824219, -11.263999938964844, -11.553899765014648, -10.708600044250488, -11.272500038146973, -10.469900131225586, -11.977899551391602, -11.57409954071045, -6.936600208282471, -11.575499534606934, -10.598799705505371, -11.986100196838379, -11.99269962310791, -11.07759952545166, -11.300700187683105, -9.26039981842041, -12.003800392150879, -9.113499641418457, -12.003399848937988, -8.847100257873535, -11.088299751281738, -12.00529956817627, -6.2555999755859375, -9.656499862670898, -6.977499961853027, -10.062299728393555, -8.21399974822998, -8.247400283813477, -8.236000061035156, -5.902699947357178, -7.902500152587891, -6.780600070953369, -6.5258002281188965, -6.539100170135498, -6.757299900054932, -6.052299976348877, -7.535299777984619, -6.0655999183654785, -5.725500106811523, -7.7505998611450195, -8.031000137329102, -7.180200099945068, -7.69320011138916, -5.720200061798096, -6.848299980163574, -5.8171000480651855, -5.591599941253662, -6.196899890899658, -5.418099880218506, -7.939599990844727, -4.571599960327148, -5.622200012207031, -5.699100017547607, -4.897799968719482, -4.5914998054504395, -6.4618000984191895, -4.874000072479248, -6.190299987792969, -6.9532999992370605, -6.4918999671936035, -5.722599983215332, -4.810500144958496, -5.785900115966797, -5.894599914550781, -5.810100078582764, -4.775000095367432, -5.729100227355957, -5.994200229644775, -5.192599773406982, -5.596799850463867, -5.732100009918213, -5.897500038146973, -5.784800052642822, -5.9278998374938965, -5.887199878692627, -5.951399803161621, -6.005899906158447, -10.793999671936035, -11.135899543762207, -11.875, -11.18280029296875, -11.476799964904785, -10.378499984741211, -7.237599849700928, -11.894800186157227, -11.900400161743164, -11.907099723815918, -11.007200241088867, -11.017200469970703, -11.248100280761719, -10.84280014038086, -10.692500114440918, -10.84749984741211, -9.808300018310547, -11.94909954071045, -11.949000358581543, -11.554100036621094, -11.267499923706055, -11.559700012207031, -7.948400020599365, -11.972200393676758, -11.972200393676758, -11.570899963378906, -10.031499862670898, -11.285499572753906, -6.384300231933594, -10.599100112915039, -6.549099922180176, -6.747300148010254, -8.272100448608398, -5.469200134277344, -7.542900085449219, -7.290599822998047, -7.777900218963623, -8.251399993896484, -7.978099822998047, -6.589200019836426, -7.821499824523926, -7.56850004196167, -7.283599853515625, -7.064199924468994, -4.686600208282471, -6.735899925231934, -6.4475998878479, -7.302299976348877, -6.070499897003174, -8.812600135803223, -8.981200218200684, -6.717199802398682, -4.537700176239014, -6.243800163269043, -4.656400203704834, -6.736499786376953, -6.385799884796143, -4.8856000900268555, -4.857999801635742, -4.539999961853027, -5.820300102233887, -6.377900123596191, -6.356200218200684, -5.709099769592285, -5.4079999923706055, -5.882400035858154, -4.6819000244140625, -6.0971999168396, -5.990499973297119, -6.111400127410889, -5.700699806213379, -6.347300052642822, -5.940199851989746, -5.573500156402588, -5.654900074005127, -5.718200206756592, -6.057000160217285, -5.790599822998047, -5.84660005569458, -5.754000186920166, -6.211699962615967, -5.942800045013428, -5.962399959564209, -5.948500156402588, -5.9558000564575195, -5.930500030517578, -5.984099864959717, -6.01669979095459, -10.043600082397461, -11.759499549865723, -11.796899795532227, -11.798199653625488, -11.862600326538086, -11.461999893188477, -11.872300148010254, -11.877400398254395, -10.988100051879883, -10.413100242614746, -11.513299942016602, -11.035099983215332, -8.733599662780762, -11.555299758911133, -11.054400444030762, -11.281499862670898, -10.363100051879883, -10.366999626159668, -10.59000015258789, -11.574000358581543, -10.111000061035156, -11.57759952545166, -11.984299659729004, -10.731100082397461, -8.237700462341309, -10.043899536132812, -11.991999626159668, -10.491000175476074, -11.994600296020508, -10.89680004119873, -6.685299873352051, -8.818599700927734, -9.511099815368652, -8.85159969329834, -9.858799934387207, -5.885900020599365, -7.005899906158447, -5.911099910736084, -7.87939977645874, -7.6616997718811035, -6.2316999435424805, -5.534800052642822, -6.7494001388549805, -6.0553998947143555, -6.162399768829346, -8.519100189208984, -5.369500160217285, -8.026900291442871, -8.102899551391602, -7.46750020980835, -6.6691999435424805, -6.763599872589111, -7.230599880218506, -5.820799827575684, -6.5746002197265625, -4.624000072479248, -5.76170015335083, -5.509900093078613, -5.861100196838379, -6.053100109100342, -6.418000221252441, -5.887499809265137, -5.6743998527526855, -5.969600200653076, -6.820199966430664, -6.1427001953125, -5.683300018310547, -4.989200115203857, -4.967299938201904, -5.9355998039245605, -4.718400001525879, -5.8796000480651855, -4.689899921417236, -5.596799850463867, -5.004000186920166, -5.54640007019043, -4.821899890899658, -5.771200180053711, -5.7729997634887695, -5.956999778747559, -5.848499774932861, -5.952400207519531, -5.770299911499023, -5.981599807739258, -5.95389986038208, -5.94890022277832, -11.754400253295898, -11.44279956817627, -10.628100395202637, -11.190799713134766, -10.501199722290039, -11.49530029296875, -10.515199661254883, -11.909600257873535, -11.914199829101562, -11.519000053405762, -10.1358003616333, -10.058199882507324, -11.528400421142578, -11.939000129699707, -11.940500259399414, -10.848600387573242, -11.947099685668945, -11.54539966583252, -11.950699806213379, -8.02280044555664, -11.966400146484375, -9.166399955749512, -11.277199745178223, -11.565799713134766, -11.056099891662598, -11.974200248718262, -11.978500366210938, -11.57289981842041, -11.980299949645996, -9.177399635314941, -6.594699859619141, -7.3744001388549805, -7.722799777984619, -7.089799880981445, -8.1673002243042, -7.6545000076293945, -7.8856000900268555, -6.729899883270264, -9.290599822998047, -6.1992998123168945, -5.181399822235107, -6.9633002281188965, -6.742000102996826, -7.74970006942749, -8.108499526977539, -6.601799964904785, -8.710599899291992, -7.322199821472168, -5.491799831390381, -7.829400062561035, -5.977799892425537, -5.655600070953369, -6.7170000076293945, -4.513899803161621, -4.629899978637695, -7.508800029754639, -6.652400016784668, -6.963600158691406, -6.843900203704834, -6.850500106811523, -7.462299823760986, -6.512400150299072, -5.981900215148926, -6.57420015335083, -4.911499977111816, -5.73859977722168, -4.624499797821045, -4.967800140380859, -6.32889986038208, -5.671199798583984, -5.73330020904541, -6.439899921417236, -5.9207000732421875, -5.798099994659424, -4.771399974822998, -5.963500022888184, -5.784599781036377, -5.568399906158447, -5.685800075531006, -5.103600025177002, -5.696700096130371, -6.212200164794922, -6.207799911499023, -6.078800201416016, -6.152900218963623, -6.0569000244140625, -6.017300128936768, -5.947000026702881, -6.092100143432617, -5.943699836730957, -5.976900100708008, -5.942299842834473, -6.06790018081665, -6.0605998039245605, -10.3548002243042, -11.777199745178223, -11.447099685668945, -11.45110034942627, -9.991100311279297, -11.458999633789062, -11.869199752807617, -11.874799728393555, -11.487700462341309, -11.926300048828125, -11.931900024414062, -11.936100006103516, -11.947600364685059, -9.056500434875488, -9.308899879455566, -9.81089973449707, -10.698100090026855, -11.952199935913086, -8.238900184631348, -9.608499526977539, -11.562199592590332, -11.967499732971191, -11.973699569702148, -11.573200225830078, -11.982000350952148, -11.57699966430664, -7.051700115203857, -11.98390007019043, -11.581199645996094, -11.987500190734863, -5.930099964141846, -9.517800331115723, -9.706999778747559, -7.186999797821045, -9.70829963684082, -9.760499954223633, -6.69890022277832, -7.135499954223633, -6.562300205230713, -7.621799945831299, -7.032199859619141, -9.285499572753906, -6.5524001121521, -7.756100177764893, -6.341000080108643, -6.281400203704834, -8.111300468444824, -5.583899974822998, -5.607699871063232, -6.284900188446045, -6.197800159454346, -4.422999858856201, -6.682199954986572, -6.494800090789795, -5.56790018081665, -7.630499839782715, -6.695899963378906, -6.3628997802734375, -7.311699867248535, -4.566400051116943, -5.694799900054932, -5.5991997718811035, -5.722799777984619, -4.891900062561035, -5.9054999351501465, -6.097300052642822, -6.27400016784668, -6.002600193023682, -5.740200042724609, -4.996200084686279, -5.620299816131592, -5.6427001953125, -4.857600212097168, -5.803699970245361, -5.922399997711182, -5.784900188446045, -6.057700157165527, -5.262700080871582, -5.762499809265137, -5.854800224304199, -5.651400089263916, -5.273799896240234, -5.934000015258789, -6.037499904632568, -5.809500217437744, -6.005899906158447, -6.000400066375732, -5.97629976272583]}, \"token.table\": {\"Topic\": [3, 1, 2, 3, 4, 5, 1, 2, 3, 4, 5, 1, 2, 3, 4, 5, 2, 1, 1, 2, 3, 4, 5, 1, 2, 3, 4, 5, 1, 2, 3, 4, 5, 1, 2, 3, 4, 5, 1, 3, 4, 5, 1, 2, 3, 4, 5, 1, 2, 3, 4, 5, 1, 2, 3, 4, 5, 1, 2, 3, 4, 5, 1, 2, 3, 4, 5, 3, 1, 2, 3, 4, 5, 1, 2, 3, 4, 5, 1, 2, 3, 4, 5, 1, 2, 3, 4, 5, 1, 2, 3, 4, 5, 1, 2, 3, 4, 5, 4, 1, 2, 3, 4, 5, 1, 2, 3, 4, 5, 1, 2, 3, 4, 5, 1, 2, 3, 4, 5, 3, 1, 2, 3, 4, 5, 1, 2, 3, 4, 5, 1, 3, 4, 1, 2, 3, 4, 5, 1, 2, 3, 4, 5, 1, 2, 3, 4, 5, 1, 2, 3, 4, 5, 1, 2, 3, 4, 5, 1, 2, 3, 4, 5, 1, 2, 3, 4, 5, 1, 2, 3, 4, 5, 4, 1, 2, 3, 4, 5, 1, 2, 3, 4, 5, 1, 2, 3, 4, 5, 5, 4, 4, 1, 2, 3, 4, 5, 1, 2, 3, 4, 5, 5, 1, 2, 3, 4, 5, 1, 2, 3, 4, 5, 1, 2, 3, 4, 5, 1, 2, 3, 4, 5, 1, 2, 3, 4, 5, 1, 2, 3, 4, 5, 1, 2, 3, 4, 5, 3, 4, 1, 2, 3, 4, 5, 1, 2, 3, 4, 5, 2, 4, 1, 2, 3, 4, 5, 1, 2, 3, 4, 5, 4, 1, 2, 3, 4, 5, 1, 2, 3, 4, 5, 1, 2, 3, 4, 5, 1, 2, 3, 4, 5, 1, 2, 3, 4, 5, 1, 2, 3, 4, 5, 1, 2, 3, 4, 5, 1, 2, 3, 4, 5, 1, 1, 2, 3, 4, 1, 2, 3, 4, 5, 1, 2, 3, 4, 5, 1, 2, 3, 4, 5, 1, 2, 3, 4, 5, 1, 2, 3, 4, 5, 3, 1, 2, 3, 4, 5, 3, 1, 2, 3, 4, 5, 3, 1, 2, 3, 4, 5, 1, 1, 2, 3, 4, 5, 1, 2, 3, 4, 5, 1, 1, 2, 3, 4, 5, 1, 2, 3, 4, 5, 1, 2, 3, 4, 5, 1, 3, 4, 1, 2, 3, 4, 5, 1, 2, 3, 4, 5, 1, 2, 3, 4, 5, 1, 2, 3, 4, 5, 1, 2, 3, 4, 5, 1, 2, 3, 4, 5, 1, 2, 3, 4, 5, 1, 2, 3, 4, 5, 1, 2, 3, 4, 5, 1, 2, 3, 4, 5, 1, 2, 3, 4, 5, 1, 2, 3, 4, 5, 1, 2, 3, 4, 5, 5, 1, 2, 3, 4, 5, 1, 2, 3, 4, 5, 1, 2, 3, 4, 1, 2, 3, 4, 5, 1, 2, 3, 4, 5, 1, 2, 3, 4, 5, 1, 2, 3, 4, 5, 1, 2, 3, 4, 5, 1, 2, 3, 4, 5, 1, 2, 3, 4, 5, 1, 2, 3, 4, 5, 1, 2, 3, 4, 5, 1, 2, 3, 4, 5, 2, 3, 4, 5, 1, 2, 3, 4, 5, 1, 5, 1, 2, 3, 4, 5, 1, 2, 3, 4, 5, 1, 2, 3, 4, 5, 1, 2, 5, 1, 2, 3, 4, 5, 1, 2, 3, 4, 5, 5, 5, 4, 1, 2, 3, 4, 5, 1, 5, 1, 2, 3, 4, 5, 1, 2, 3, 4, 1, 2, 3, 4, 5, 2, 1, 2, 3, 4, 5, 1, 2, 3, 4, 5, 1, 2, 3, 4, 5, 1, 2, 3, 4, 5, 1, 2, 3, 4, 5, 1, 2, 3, 4, 5, 1, 2, 4, 1, 1, 2, 3, 4, 5, 1, 2, 3, 4, 5, 1, 2, 3, 4, 5, 1, 2, 3, 4, 5, 1, 2, 3, 4, 5, 5, 1, 2, 3, 4, 5, 1, 2, 3, 4, 5, 4, 1, 2, 3, 4, 5, 1, 2, 3, 4, 5, 1, 2, 3, 4, 5, 1, 2, 3, 4, 5, 5, 1, 2, 3, 4, 5, 2, 5, 5, 1, 2, 3, 4, 5, 1, 2, 3, 4, 5, 1, 2, 3, 4, 5, 2, 4, 1, 2, 3, 4, 5, 2, 5, 1, 1, 2, 3, 4, 5, 1, 2, 3, 4, 5, 2, 3, 5, 1, 2, 3, 4, 5, 1, 2, 3, 4, 5, 1, 2, 3, 4, 5, 1, 2, 3, 4, 5, 4, 1, 2, 3, 4, 5, 1, 2, 3, 4, 5, 1, 2, 3, 4, 5, 1, 2, 3, 4, 5, 1, 2, 3, 4, 5, 2, 3, 4, 1, 3, 5, 5, 1, 2, 3, 4, 5, 1, 2, 3, 4, 5, 1, 2, 3, 4, 5, 1, 1, 2, 3, 4, 5, 1, 2, 3, 4, 5, 1, 2, 3, 4, 5, 1, 2, 3, 4, 5, 1, 2, 3, 4, 5, 1, 2, 3, 4, 5, 1, 2, 3, 4, 5, 1, 2, 3, 4, 5, 4, 1, 2, 3, 4, 5, 1, 2, 3, 4, 5, 1, 2, 3, 4, 5, 1, 2, 3, 4, 5, 1, 2, 3, 4, 5, 1, 2, 3, 4, 5, 1, 2, 3, 4, 5, 1, 2, 3, 4, 5, 1, 2, 3, 4, 5, 1, 2, 3, 4, 5, 1, 2, 3, 4, 5, 1, 2, 3, 4, 5, 1, 2, 3, 4, 5, 1, 2, 3, 4, 5, 1, 2, 3, 4, 5, 1, 2, 3, 4, 5, 1, 5, 1, 2, 3, 4, 5, 1, 2, 3, 4, 5, 1, 1, 2, 3, 4, 5, 1, 2, 3, 4, 1, 2, 3, 4, 5, 1, 2, 3, 4, 5, 5, 1, 2, 3, 4, 5, 1, 2, 3, 4, 5, 1, 2, 3, 4, 5, 2, 5, 1, 2, 3, 4, 5, 1, 2, 3, 4, 5, 1, 2, 3, 4, 5, 1, 2, 3, 4, 5, 1, 2, 3, 4, 5, 1, 2, 3, 4, 5, 1, 2, 3, 4, 5, 1, 2, 3, 4, 5, 1, 2, 3, 4, 5, 1, 2, 3, 4, 5, 1, 2, 3, 4, 5, 1, 2, 3, 4, 5, 3, 1, 2, 3, 4, 5, 1, 2, 3, 4, 5, 1, 2, 3, 4, 5, 2, 3, 5, 1, 2, 3, 4, 5, 1, 2, 3, 4, 5, 1, 2, 3, 4, 5, 1, 2, 3, 4, 5, 1, 2, 3, 4, 5, 1, 2, 3, 4, 5, 2, 1, 2, 3, 4, 5, 1, 2, 3, 4, 5, 1, 2, 3, 4, 5, 1, 2, 3, 4, 5, 1, 2, 3, 4, 5, 1, 4, 1, 2, 3, 4, 5, 1, 2, 3, 4, 5, 1, 2, 3, 4, 5, 1, 2, 3, 4, 5, 1, 2, 3, 4, 5, 3, 4, 1, 2, 3, 4, 5, 3, 1, 2, 3, 4, 5, 1, 2, 3, 4, 5, 1, 2, 3, 4, 5, 1, 2, 3, 4, 5, 3, 5, 1, 2, 3, 4, 5, 1, 2, 3, 4, 5, 1, 2, 3, 4, 5, 1, 2, 3, 4, 5, 5, 1, 2, 3, 4, 5, 1, 5, 1, 2, 3, 4, 5, 1, 2, 3, 4, 5, 4, 1, 2, 3, 4, 5, 1, 2, 3, 4, 5, 1, 1, 2, 3, 4, 5, 1, 2, 3, 4, 5, 1, 2, 3, 4, 5, 1, 2, 3, 4, 5, 1, 2, 3, 4, 5, 1, 2, 3, 4, 5, 1, 2, 3, 4, 5, 1, 5, 1, 2, 3, 4, 5, 4, 3, 3, 5, 1, 2, 1, 2, 3, 4, 5, 2, 1, 2, 3, 4, 5, 1, 4, 1, 2, 3, 4, 5, 1, 2, 3, 4, 5, 3, 4, 5, 1, 2, 3, 4, 5, 2, 1, 2, 4, 5, 5, 2, 1, 2, 3, 4, 5, 1, 2, 3, 4, 5, 1, 2, 3, 4, 5, 1, 2, 3, 4, 5, 1, 1, 2, 3, 4, 5, 1, 2, 3, 4, 5, 1, 2, 3, 4, 5, 1, 2, 3, 4, 5, 1, 3, 5, 1, 2, 3, 4, 5, 1, 2, 3, 4, 5, 1, 2, 3, 4, 5, 1, 2, 3, 4, 5, 1, 2, 3, 4, 5, 1, 2, 4, 5, 1, 2, 3, 4, 5, 2, 3], \"Freq\": [0.5272366404533386, 0.2705663740634918, 0.19251838326454163, 0.1482911854982376, 0.20552638173103333, 0.18471358716487885, 0.21080078184604645, 0.15810059010982513, 0.15810059010982513, 0.15810059010982513, 0.31620118021965027, 0.19202382862567902, 0.1795005351305008, 0.15862837433815002, 0.18993660807609558, 0.2796868681907654, 0.5278668999671936, 0.3526032865047455, 0.1505948305130005, 0.1505948305130005, 0.301189661026001, 0.1505948305130005, 0.1505948305130005, 0.1863829344511032, 0.3106382191181183, 0.12425529211759567, 0.24851058423519135, 0.12425529211759567, 0.2512550950050354, 0.1978633999824524, 0.19158202409744263, 0.17430822551250458, 0.18451546132564545, 0.17806661128997803, 0.31797608733177185, 0.16534757614135742, 0.15262852609157562, 0.19078566133975983, 0.3513842821121216, 0.3513842821121216, 0.3513842821121216, 0.3513842821121216, 0.3054738938808441, 0.21483878791332245, 0.1477016657590866, 0.1879839301109314, 0.14434480667114258, 0.17191113531589508, 0.25513795018196106, 0.170546755194664, 0.16645362973213196, 0.23603671789169312, 0.19162194430828094, 0.19281958043575287, 0.23234161734580994, 0.2299463450908661, 0.15449519455432892, 0.1520838737487793, 0.18630275130271912, 0.1748964637517929, 0.1748964637517929, 0.311771959066391, 0.15585185587406158, 0.3057094216346741, 0.17383477091789246, 0.16184616088867188, 0.20380628108978271, 0.5268012881278992, 0.16827738285064697, 0.2509135901927948, 0.20583930611610413, 0.154755100607872, 0.22086407244205475, 0.17101642489433289, 0.1808827668428421, 0.29270118474960327, 0.17430520057678223, 0.1808827668428421, 0.1859486848115921, 0.123965784907341, 0.1859486848115921, 0.123965784907341, 0.3099144697189331, 0.17589905858039856, 0.3517981171607971, 0.17589905858039856, 0.17589905858039856, 0.17589905858039856, 0.1315613090991974, 0.1315613090991974, 0.1315613090991974, 0.1315613090991974, 0.39468392729759216, 0.20809784531593323, 0.21028834581375122, 0.2672414481639862, 0.18181179463863373, 0.1336207240819931, 0.5272409915924072, 0.19079744815826416, 0.18415576219558716, 0.2698938548564911, 0.15155114233493805, 0.20347702503204346, 0.21968984603881836, 0.17267802357673645, 0.17991061508655548, 0.22240206599235535, 0.2052246630191803, 0.11147910356521606, 0.1486387997865677, 0.30966416001319885, 0.1857984960079193, 0.24773134291172028, 0.19072183966636658, 0.19825033843517303, 0.28231850266456604, 0.1656268686056137, 0.16186261177062988, 0.5272597670555115, 0.21939511597156525, 0.14551717042922974, 0.18133679032325745, 0.19029168784618378, 0.261930912733078, 0.17560677230358124, 0.14048542082309723, 0.17560677230358124, 0.31609219312667847, 0.21072812378406525, 0.35179322957992554, 0.35179322957992554, 0.35179322957992554, 0.11726883053779602, 0.35180649161338806, 0.11726883053779602, 0.11726883053779602, 0.23453766107559204, 0.23968712985515594, 0.1731450855731964, 0.1704290807247162, 0.1704290807247162, 0.2464771270751953, 0.14575769007205963, 0.3468027710914612, 0.16586220264434814, 0.18094058334827423, 0.16083607077598572, 0.17596575617790222, 0.30562472343444824, 0.19448846578598022, 0.16670440137386322, 0.14818169176578522, 0.17960336804389954, 0.20205378532409668, 0.3143059015274048, 0.1571529507637024, 0.1571529507637024, 0.2888811528682709, 0.173328697681427, 0.19808994233608246, 0.14856745302677155, 0.18983618915081024, 0.20628876984119415, 0.1785191148519516, 0.2776964008808136, 0.16661784052848816, 0.17455202341079712, 0.1255573183298111, 0.23716381192207336, 0.1743851602077484, 0.1743851602077484, 0.2859916687011719, 0.35137316584587097, 0.2533949017524719, 0.16680769622325897, 0.15662096440792084, 0.21901468932628632, 0.2037345916032791, 0.15737037360668182, 0.1888444423675537, 0.2990036904811859, 0.17310740053653717, 0.17310740053653717, 0.22382387518882751, 0.18055126070976257, 0.14697767794132233, 0.2163630723953247, 0.2320307493209839, 0.5265297293663025, 0.5272713899612427, 0.5267384052276611, 0.19769935309886932, 0.1593397706747055, 0.2021254450082779, 0.286221444606781, 0.15343829989433289, 0.20400182902812958, 0.17000152170658112, 0.20400182902812958, 0.13600121438503265, 0.30600273609161377, 0.5270484089851379, 0.19917801022529602, 0.18442408740520477, 0.1327853500843048, 0.30983248353004456, 0.16967016458511353, 0.16215740144252777, 0.22888590395450592, 0.13058693706989288, 0.2224283069372177, 0.25615131855010986, 0.13182997703552246, 0.13182997703552246, 0.2636599540710449, 0.13182997703552246, 0.13182997703552246, 0.21199750900268555, 0.14964529871940613, 0.2618792653083801, 0.1895507127046585, 0.18705661594867706, 0.1462266743183136, 0.17547200620174408, 0.1462266743183136, 0.20471733808517456, 0.3216986656188965, 0.21098019182682037, 0.21098019182682037, 0.21098019182682037, 0.42196038365364075, 0.21098019182682037, 0.1807519942522049, 0.1707102209329605, 0.2912115454673767, 0.15062665939331055, 0.21087732911109924, 0.3513384163379669, 0.3513384163379669, 0.2746903598308563, 0.21497505903244019, 0.2018376886844635, 0.16959142684936523, 0.13973379135131836, 0.15648767352104187, 0.1724558025598526, 0.18203666806221008, 0.29061993956565857, 0.1980047971010208, 0.5280494689941406, 0.5263208150863647, 0.21116694808006287, 0.42233389616012573, 0.21116694808006287, 0.21116694808006287, 0.21116694808006287, 0.25183379650115967, 0.16065260767936707, 0.21015097200870514, 0.22317685186862946, 0.15370546281337738, 0.5271051526069641, 0.15062125027179718, 0.15062125027179718, 0.15062125027179718, 0.30124250054359436, 0.15062125027179718, 0.18715640902519226, 0.1792382448911667, 0.21522986888885498, 0.2116307020187378, 0.2065918743610382, 0.1667327731847763, 0.23878814280033112, 0.22454464435577393, 0.1834898293018341, 0.18600338697433472, 0.28820034861564636, 0.20585739612579346, 0.164685919880867, 0.14410017430782318, 0.1921335756778717, 0.10024498403072357, 0.20048996806144714, 0.15036748349666595, 0.20048996806144714, 0.3007349669933319, 0.15778270363807678, 0.20798629522323608, 0.14343881607055664, 0.29404959082603455, 0.18647046387195587, 0.1678454726934433, 0.21036632359027863, 0.199176624417305, 0.15441784262657166, 0.266314834356308, 0.3022420406341553, 0.15112102031707764, 0.15112102031707764, 0.15112102031707764, 0.15112102031707764, 0.5290069580078125, 0.263826847076416, 0.263826847076416, 0.263826847076416, 0.263826847076416, 0.2087024450302124, 0.1777835637331009, 0.14686468243598938, 0.3091888129711151, 0.15845926105976105, 0.3060067892074585, 0.19473159313201904, 0.16691279411315918, 0.15709440410137177, 0.17345839738845825, 0.20957455039024353, 0.14017900824546814, 0.2803580164909363, 0.1651614010334015, 0.20402291417121887, 0.17808391153812408, 0.26356419920921326, 0.18283282220363617, 0.22913463413715363, 0.1472160369157791, 0.26438671350479126, 0.26438671350479126, 0.26438671350479126, 0.26438671350479126, 0.26438671350479126, 0.5269352793693542, 0.1315889209508896, 0.17545188963413239, 0.17545188963413239, 0.21931485831737518, 0.307040810585022, 0.5270748138427734, 0.28229019045829773, 0.21983660757541656, 0.14239417016506195, 0.16237930953502655, 0.19235703349113464, 0.5265410542488098, 0.1762760728597641, 0.17475645244121552, 0.2872084379196167, 0.17931532859802246, 0.18235456943511963, 0.5288265943527222, 0.2590663731098175, 0.15641744434833527, 0.2036685347557068, 0.1898190826177597, 0.19063375890254974, 0.18503472208976746, 0.17698973417282104, 0.17296724021434784, 0.17296724021434784, 0.2896195650100708, 0.5284706950187683, 0.11039802432060242, 0.22319599986076355, 0.1799967736005783, 0.31439435482025146, 0.17279690504074097, 0.17588727176189423, 0.26383090019226074, 0.17588727176189423, 0.35177454352378845, 0.08794363588094711, 0.2642364799976349, 0.2642364799976349, 0.2642364799976349, 0.2642364799976349, 0.2642364799976349, 0.35146111249923706, 0.35146111249923706, 0.35146111249923706, 0.1336442232131958, 0.17476552724838257, 0.28270894289016724, 0.23130732774734497, 0.1799056977033615, 0.21116340160369873, 0.42232680320739746, 0.21116340160369873, 0.21116340160369873, 0.21116340160369873, 0.17107325792312622, 0.2132699340581894, 0.18333731591701508, 0.19518564641475677, 0.2369665950536728, 0.16196273267269135, 0.16196273267269135, 0.16196273267269135, 0.16196273267269135, 0.3239254653453827, 0.19378721714019775, 0.2541171908378601, 0.1462545096874237, 0.14442631602287292, 0.26325809955596924, 0.21831169724464417, 0.18949897587299347, 0.17730899155139923, 0.17730899155139923, 0.23715077340602875, 0.17767514288425446, 0.17969417572021484, 0.21401777863502502, 0.1554657518863678, 0.27458885312080383, 0.14095184206962585, 0.31714165210723877, 0.18597812950611115, 0.19968178868293762, 0.15465550124645233, 0.20313531160354614, 0.18721799552440643, 0.18494409322738647, 0.25391915440559387, 0.17054270207881927, 0.18418076634407043, 0.30696794390678406, 0.17190204560756683, 0.18418076634407043, 0.14734461903572083, 0.24314814805984497, 0.15356723964214325, 0.1876932978630066, 0.2772741913795471, 0.13863709568977356, 0.19390174746513367, 0.2843892276287079, 0.14650355279445648, 0.18959282338619232, 0.18528389930725098, 0.20510707795619965, 0.18540246784687042, 0.22749868035316467, 0.19167211651802063, 0.19077645242214203, 0.5266990065574646, 0.22149837017059326, 0.19537517428398132, 0.1881309151649475, 0.17803287506103516, 0.21688838303089142, 0.18431083858013153, 0.21944192051887512, 0.15223464369773865, 0.27392053604125977, 0.17005476355552673, 0.3523561656475067, 0.3523561656475067, 0.3523561656475067, 0.3523561656475067, 0.19527433812618256, 0.22425846755504608, 0.23138168454170227, 0.2294166535139084, 0.11962088942527771, 0.15321147441864014, 0.13406004011631012, 0.15321147441864014, 0.3064229488372803, 0.229817196726799, 0.16214600205421448, 0.16214600205421448, 0.16214600205421448, 0.32429200410842896, 0.16214600205421448, 0.17529647052288055, 0.1830301433801651, 0.15982913970947266, 0.2938793897628784, 0.18560802936553955, 0.22631999850273132, 0.3017599880695343, 0.15087999403476715, 0.15087999403476715, 0.22631999850273132, 0.23191289603710175, 0.2617630660533905, 0.16532404720783234, 0.15843553841114044, 0.1813972145318985, 0.19170616567134857, 0.19170616567134857, 0.38341233134269714, 0.09585308283567429, 0.19170616567134857, 0.1347787231206894, 0.2050357162952423, 0.22080770134925842, 0.2451825737953186, 0.19499900937080383, 0.16621291637420654, 0.19737784564495087, 0.15582461655139923, 0.31164923310279846, 0.16621291637420654, 0.1913825422525406, 0.23017631471157074, 0.14741629362106323, 0.2612113058567047, 0.1681062877178192, 0.21074827015399933, 0.42149654030799866, 0.21074827015399933, 0.21074827015399933, 0.1670324057340622, 0.17789630591869354, 0.21591994166374207, 0.17653831839561462, 0.2620915174484253, 0.3514151871204376, 0.3514151871204376, 0.15087898075580597, 0.30175796151161194, 0.15087898075580597, 0.15087898075580597, 0.15087898075580597, 0.21102818846702576, 0.17340300977230072, 0.2568327784538269, 0.165223628282547, 0.19303354620933533, 0.20779012143611908, 0.2005416303873062, 0.2681942284107208, 0.20779012143611908, 0.11597588658332825, 0.35192641615867615, 0.35192641615867615, 0.35192641615867615, 0.15048758685588837, 0.15048758685588837, 0.30097517371177673, 0.15048758685588837, 0.22573138773441315, 0.17578008770942688, 0.17578008770942688, 0.17578008770942688, 0.35156017541885376, 0.17578008770942688, 0.5261443257331848, 0.526925802230835, 0.5269791483879089, 0.32310405373573303, 0.17623856663703918, 0.17623856663703918, 0.17623856663703918, 0.14686547219753265, 0.5288791656494141, 0.5264776349067688, 0.3053656816482544, 0.18791735172271729, 0.17617250978946686, 0.17617250978946686, 0.16442768275737762, 0.264551043510437, 0.264551043510437, 0.264551043510437, 0.264551043510437, 0.26377344131469727, 0.26377344131469727, 0.26377344131469727, 0.26377344131469727, 0.26377344131469727, 0.5275946855545044, 0.10550516843795776, 0.21101033687591553, 0.3165155053138733, 0.21101033687591553, 0.10550516843795776, 0.21132317185401917, 0.21132317185401917, 0.21132317185401917, 0.21132317185401917, 0.21132317185401917, 0.2888350486755371, 0.17694398760795593, 0.14571857452392578, 0.20556728541851044, 0.18475034832954407, 0.15008237957954407, 0.3091249167919159, 0.18144288659095764, 0.17248274385929108, 0.18816298246383667, 0.1531178057193756, 0.15762126445770264, 0.2251732349395752, 0.2837182879447937, 0.18464206159114838, 0.15403135120868683, 0.2226853221654892, 0.2508510649204254, 0.1742754727602005, 0.19804030656814575, 0.3524499833583832, 0.3524499833583832, 0.3524499833583832, 0.5288265347480774, 0.19452838599681854, 0.30568745732307434, 0.15284372866153717, 0.18989674746990204, 0.16210699081420898, 0.1476900577545166, 0.2953801155090332, 0.1476900577545166, 0.18988722562789917, 0.18988722562789917, 0.25035709142684937, 0.16577699780464172, 0.17592661082744598, 0.19960904121398926, 0.20806705951690674, 0.2821468114852905, 0.1941009908914566, 0.17208954691886902, 0.16208434104919434, 0.19009891152381897, 0.1605679988861084, 0.2212994247674942, 0.19819185137748718, 0.20885689556598663, 0.21122689545154572, 0.526654064655304, 0.2844500243663788, 0.15515457093715668, 0.20886191725730896, 0.15316540002822876, 0.19891610741615295, 0.17927812039852142, 0.16508527100086212, 0.18600104749202728, 0.23007358610630035, 0.23903748393058777, 0.5274953842163086, 0.19256223738193512, 0.17640316486358643, 0.196602001786232, 0.19256223738193512, 0.24103944003582, 0.2547450661659241, 0.17597521841526031, 0.20446644723415375, 0.16256758570671082, 0.20111453533172607, 0.1695060431957245, 0.19765280187129974, 0.24331310391426086, 0.20328214764595032, 0.18701958656311035, 0.16379450261592865, 0.1842688024044037, 0.17403164505958557, 0.3173518478870392, 0.15355734527111053, 0.5260517597198486, 0.1812591701745987, 0.18797247111797333, 0.17454586923122406, 0.17454586923122406, 0.2819587290287018, 0.3510074317455292, 0.3510074317455292, 0.5268111824989319, 0.17485296726226807, 0.24479416012763977, 0.20108091831207275, 0.18068140745162964, 0.19816669821739197, 0.15930284559726715, 0.26904478669166565, 0.18939338624477386, 0.20178359746932983, 0.1805432289838791, 0.13178753852844238, 0.2196459025144577, 0.307504266500473, 0.17571672797203064, 0.17571672797203064, 0.35124143958091736, 0.35124143958091736, 0.22192814946174622, 0.16912740468978882, 0.24915353953838348, 0.15015213191509247, 0.2103779911994934, 0.35120919346809387, 0.35120919346809387, 0.5284957885742188, 0.28176385164260864, 0.17930427193641663, 0.17930427193641663, 0.19851544499397278, 0.16649682819843292, 0.2716023921966553, 0.19622376561164856, 0.21536754071712494, 0.13400647044181824, 0.18306241929531097, 0.3514295518398285, 0.3514295518398285, 0.3514295518398285, 0.1548423320055008, 0.22483955323696136, 0.15060007572174072, 0.263019859790802, 0.20574940741062164, 0.1757967621088028, 0.1757967621088028, 0.3515935242176056, 0.1757967621088028, 0.1757967621088028, 0.26381340622901917, 0.26381340622901917, 0.26381340622901917, 0.26381340622901917, 0.26381340622901917, 0.22278422117233276, 0.16825661063194275, 0.15890902280807495, 0.1931835114955902, 0.25550079345703125, 0.5276113748550415, 0.26344823837280273, 0.26344823837280273, 0.26344823837280273, 0.26344823837280273, 0.26344823837280273, 0.20244093239307404, 0.15655432641506195, 0.22313489019870758, 0.18444618582725525, 0.2330320030450821, 0.18089933693408966, 0.20260725915431976, 0.2146672159433365, 0.19356229901313782, 0.20743124186992645, 0.19064854085445404, 0.13044373691082, 0.1806144118309021, 0.21071681380271912, 0.29098987579345703, 0.19238772988319397, 0.17248554527759552, 0.28747591376304626, 0.15037201344966888, 0.19791610538959503, 0.3517356216907501, 0.3517356216907501, 0.3517356216907501, 0.3523569405078888, 0.3523569405078888, 0.3523569405078888, 0.526388943195343, 0.15945445001125336, 0.3037227690219879, 0.22019900381565094, 0.13667523860931396, 0.17464059591293335, 0.16990895569324493, 0.2147274613380432, 0.15920603275299072, 0.22074785828590393, 0.23546437919139862, 0.24787892401218414, 0.20020990073680878, 0.2226824313402176, 0.1654796153306961, 0.16411763429641724, 0.5293943285942078, 0.263938844203949, 0.263938844203949, 0.263938844203949, 0.263938844203949, 0.263938844203949, 0.30185776948928833, 0.13931897282600403, 0.15092888474464417, 0.20897845923900604, 0.18575863540172577, 0.30689892172813416, 0.2045992761850357, 0.17049939930438995, 0.1363995224237442, 0.2045992761850357, 0.17577679455280304, 0.1964564174413681, 0.17577679455280304, 0.2998545467853546, 0.15509717166423798, 0.16054347157478333, 0.16054347157478333, 0.240815207362175, 0.27827534079551697, 0.15519201755523682, 0.1798711121082306, 0.167023167014122, 0.1798711121082306, 0.14132730662822723, 0.32119840383529663, 0.11897896230220795, 0.2073633372783661, 0.29574769735336304, 0.1869669407606125, 0.19036634266376495, 0.17335747182369232, 0.16867214441299438, 0.18975615501403809, 0.2717495560646057, 0.19678416848182678, 0.5268335342407227, 0.2154681384563446, 0.1586494892835617, 0.27966585755348206, 0.16012530028820038, 0.18595196306705475, 0.21454960107803345, 0.17163968086242676, 0.19738563895225525, 0.3089514374732971, 0.10298381000757217, 0.2647212743759155, 0.15655559301376343, 0.16794145107269287, 0.24764248728752136, 0.16224852204322815, 0.3021351397037506, 0.1510675698518753, 0.22660134732723236, 0.1510675698518753, 0.1510675698518753, 0.3021705746650696, 0.1510852873325348, 0.1510852873325348, 0.1510852873325348, 0.1510852873325348, 0.21603550016880035, 0.22455459833145142, 0.1688528209924698, 0.22914180159568787, 0.16120748221874237, 0.19726786017417908, 0.144157275557518, 0.19726786017417908, 0.288314551115036, 0.17450617253780365, 0.29056060314178467, 0.1508679986000061, 0.16204340755939484, 0.1676311194896698, 0.22909586131572723, 0.1943560093641281, 0.15289339423179626, 0.31096962094306946, 0.13734491169452667, 0.20472165942192078, 0.10538981109857559, 0.10538981109857559, 0.316169410943985, 0.21077962219715118, 0.21077962219715118, 0.35231003165245056, 0.11743667721748352, 0.11743667721748352, 0.23487335443496704, 0.23487335443496704, 0.18875493109226227, 0.30912038683891296, 0.14498566091060638, 0.2024328112602234, 0.15592798590660095, 0.2112300544977188, 0.4224601089954376, 0.2112300544977188, 0.2112300544977188, 0.2112300544977188, 0.19136211276054382, 0.23410287499427795, 0.14570719003677368, 0.2127324938774109, 0.2156466394662857, 0.19227230548858643, 0.2386828511953354, 0.2221076488494873, 0.1513868123292923, 0.19558733701705933, 0.18845276534557343, 0.17567630112171173, 0.1708851307630539, 0.1980351060628891, 0.2667085826396942, 0.35149070620536804, 0.35149070620536804, 0.23152750730514526, 0.1566215455532074, 0.16343118250370026, 0.30643346905708313, 0.14300228655338287, 0.19495809078216553, 0.14908559620380402, 0.21789434552192688, 0.3096393346786499, 0.12614935636520386, 0.5287792086601257, 0.26422178745269775, 0.26422178745269775, 0.26422178745269775, 0.26422178745269775, 0.26422178745269775, 0.2640474736690521, 0.2640474736690521, 0.2640474736690521, 0.2640474736690521, 0.1052762120962143, 0.15791431069374084, 0.2105524241924286, 0.2105524241924286, 0.3158286213874817, 0.27638283371925354, 0.22782908380031586, 0.1830102503299713, 0.1493961215019226, 0.16060082614421844, 0.5268287062644958, 0.2013455629348755, 0.15962530672550201, 0.24760062992572784, 0.19590379297733307, 0.19499683380126953, 0.26438167691230774, 0.13219083845615387, 0.13219083845615387, 0.13219083845615387, 0.13219083845615387, 0.22633305191993713, 0.3017774224281311, 0.15088871121406555, 0.15088871121406555, 0.17603681981563568, 0.35100221633911133, 0.35100221633911133, 0.22618921101093292, 0.15079280734062195, 0.2921610474586487, 0.16964191198349, 0.15079280734062195, 0.22580750286579132, 0.1505383402109146, 0.1505383402109146, 0.1505383402109146, 0.3387112617492676, 0.13090546429157257, 0.29291000962257385, 0.23866741359233856, 0.1171640008687973, 0.22058655321598053, 0.26399973034858704, 0.13199986517429352, 0.13199986517429352, 0.39599961042404175, 0.13199986517429352, 0.1726013571023941, 0.2958880364894867, 0.1726013571023941, 0.23536548018455505, 0.12104510515928268, 0.21591298282146454, 0.14962391555309296, 0.19697324931621552, 0.2537924647331238, 0.18371543288230896, 0.19692963361740112, 0.16837483644485474, 0.2412388026714325, 0.1614823043346405, 0.23139232397079468, 0.18987132608890533, 0.12658089399337769, 0.3164522349834442, 0.18987132608890533, 0.1476777046918869, 0.11720225214958191, 0.23440450429916382, 0.3516067564487457, 0.11720225214958191, 0.11720225214958191, 0.2159413993358612, 0.17253048717975616, 0.25156059861183167, 0.16696499288082123, 0.19367939233779907, 0.18613608181476593, 0.12409071624279022, 0.31022679805755615, 0.18613608181476593, 0.18613608181476593, 0.21093304455280304, 0.21093304455280304, 0.4218660891056061, 0.21093304455280304, 0.21093304455280304, 0.5278497934341431, 0.1943332850933075, 0.23354852199554443, 0.1978190839290619, 0.1952047348022461, 0.17864719033241272, 0.202872633934021, 0.205856055021286, 0.17900526523590088, 0.14767934381961823, 0.2655244767665863, 0.23447327315807343, 0.11723663657903671, 0.35170993208885193, 0.11723663657903671, 0.11723663657903671, 0.3511926531791687, 0.3511926531791687, 0.3511926531791687, 0.21310560405254364, 0.25309860706329346, 0.18396784365177155, 0.16625665128231049, 0.1836821734905243, 0.2940059304237366, 0.18375369906425476, 0.1561906486749649, 0.17456601560115814, 0.19294138252735138, 0.20826205611228943, 0.2760683000087738, 0.16467231512069702, 0.1598290205001831, 0.19131049513816833, 0.1759495735168457, 0.3518991470336914, 0.1759495735168457, 0.1759495735168457, 0.1759495735168457, 0.15915483236312866, 0.29473116993904114, 0.21220645308494568, 0.12968172132968903, 0.20041720569133759, 0.15918110311031342, 0.20087140798568726, 0.1895013153553009, 0.16676115989685059, 0.28804200887680054, 0.5278778076171875, 0.19122177362442017, 0.18462792038917542, 0.2967234253883362, 0.15165863931179047, 0.17803406715393066, 0.3020951449871063, 0.20139676332473755, 0.20139676332473755, 0.15104757249355316, 0.15104757249355316, 0.1970605105161667, 0.13708557188510895, 0.18849267065525055, 0.2099122852087021, 0.269887238740921, 0.21098577976226807, 0.21098577976226807, 0.42197155952453613, 0.21098577976226807, 0.21098577976226807, 0.16832129657268524, 0.2638550102710724, 0.21608814597129822, 0.21381352841854095, 0.13647672533988953, 0.5278400182723999, 0.5278400182723999, 0.20923683047294617, 0.15445242822170258, 0.1828346997499466, 0.26072096824645996, 0.192735493183136, 0.16476130485534668, 0.16476130485534668, 0.296570360660553, 0.20595163106918335, 0.16476130485534668, 0.16565993428230286, 0.1716296523809433, 0.19401612877845764, 0.2029707282781601, 0.2641604244709015, 0.3148726522922516, 0.17992724478244781, 0.17992724478244781, 0.17992724478244781, 0.17992724478244781, 0.1318538635969162, 0.2637077271938324, 0.1318538635969162, 0.2637077271938324, 0.1318538635969162, 0.35157859325408936, 0.35157859325408936, 0.1662476807832718, 0.1662476807832718, 0.22166357934474945, 0.1662476807832718, 0.2770794630050659, 0.5271157622337341, 0.289508581161499, 0.14312782883644104, 0.17565688490867615, 0.18649989366531372, 0.20601733028888702, 0.13177241384983063, 0.13177241384983063, 0.13177241384983063, 0.3953172564506531, 0.13177241384983063, 0.42287975549697876, 0.21143987774848938, 0.21143987774848938, 0.21143987774848938, 0.21143987774848938, 0.19251509010791779, 0.22281838953495026, 0.17112451791763306, 0.25312167406082153, 0.15864668786525726, 0.35141506791114807, 0.35141506791114807, 0.18239375948905945, 0.28227606415748596, 0.16068021953105927, 0.15633749961853027, 0.21279270946979523, 0.1628357172012329, 0.12752194702625275, 0.26289138197898865, 0.21384449303150177, 0.23346325755119324, 0.1421622335910797, 0.17008695006370544, 0.19801168143749237, 0.2868630588054657, 0.20562750101089478, 0.15050412714481354, 0.15050412714481354, 0.15050412714481354, 0.15050412714481354, 0.3010082542896271, 0.525891125202179, 0.1755751222372055, 0.14530354738235474, 0.16346649825572968, 0.23611827194690704, 0.27849847078323364, 0.35248398780822754, 0.35248398780822754, 0.1980717033147812, 0.15620288252830505, 0.2270577996969223, 0.24638187885284424, 0.17391662299633026, 0.20402678847312927, 0.1805754452943802, 0.1348453015089035, 0.1852657049894333, 0.2966596484184265, 0.35147491097450256, 0.22282351553440094, 0.22221136093139648, 0.20017386972904205, 0.2038467824459076, 0.15058951079845428, 0.24255476891994476, 0.23406535387039185, 0.17949053645133972, 0.18191607296466827, 0.1625116914510727, 0.5285806059837341, 0.19879566133022308, 0.17394621670246124, 0.14477510750293732, 0.26253992319107056, 0.22040389478206635, 0.20602361857891083, 0.23720556497573853, 0.21270546317100525, 0.18375079333782196, 0.1603643298149109, 0.21175317466259003, 0.12899905443191528, 0.1411687731742859, 0.23365867137908936, 0.28477150201797485, 0.19696566462516785, 0.3072664439678192, 0.13393665850162506, 0.15757253766059875, 0.20484429597854614, 0.15976819396018982, 0.15976819396018982, 0.1917218267917633, 0.31953638792037964, 0.15976819396018982, 0.161680206656456, 0.323360413312912, 0.161680206656456, 0.19972260296344757, 0.1521696001291275, 0.23927907645702362, 0.18366681039333344, 0.15878763794898987, 0.16317808628082275, 0.2553773522377014, 0.3522016108036041, 0.3522016108036041, 0.29957932233810425, 0.17475460469722748, 0.17475460469722748, 0.19139789044857025, 0.1664329469203949, 0.5269282460212708, 0.5271186828613281, 0.350960373878479, 0.350960373878479, 0.3521001636981964, 0.3521001636981964, 0.2034340649843216, 0.16028138995170593, 0.18494005501270294, 0.16028138995170593, 0.2897394299507141, 0.5276222825050354, 0.16226595640182495, 0.16226595640182495, 0.3245319128036499, 0.24339893460273743, 0.16226595640182495, 0.3513840138912201, 0.3513840138912201, 0.2375355362892151, 0.20023202896118164, 0.20571784675121307, 0.20023202896118164, 0.15634556114673615, 0.20290394127368927, 0.1706237643957138, 0.23748984932899475, 0.19022244215011597, 0.19944535195827484, 0.35072702169418335, 0.35072702169418335, 0.35072702169418335, 0.31209826469421387, 0.15604913234710693, 0.12003778666257858, 0.2040642499923706, 0.21606802940368652, 0.5277799367904663, 0.2639560103416443, 0.2639560103416443, 0.2639560103416443, 0.2639560103416443, 0.5266676545143127, 0.5277807712554932, 0.1954267919063568, 0.17991672456264496, 0.20576682686805725, 0.21093685925006866, 0.20783483982086182, 0.21703775227069855, 0.22298398613929749, 0.13279935717582703, 0.23983165621757507, 0.1882975846529007, 0.19290052354335785, 0.2515422999858856, 0.18981412053108215, 0.20215974748134613, 0.1620364487171173, 0.18897366523742676, 0.1917257010936737, 0.24401453137397766, 0.19814714789390564, 0.17704814672470093, 0.5285657048225403, 0.1959671676158905, 0.19094237685203552, 0.20601676404476166, 0.27636396884918213, 0.13566957414150238, 0.1597422957420349, 0.19169075787067413, 0.1597422957420349, 0.3194845914840698, 0.1597422957420349, 0.22492507100105286, 0.19601620733737946, 0.2108231782913208, 0.17627355456352234, 0.19178563356399536, 0.11852306872606277, 0.18551436066627502, 0.29115450382232666, 0.2628120183944702, 0.14428895711898804, 0.35149669647216797, 0.35149669647216797, 0.35149669647216797, 0.3238707482814789, 0.15000328421592712, 0.18068577349185944, 0.13636662065982819, 0.2079591006040573, 0.1713692843914032, 0.2810456156730652, 0.1987883597612381, 0.21592529118061066, 0.13024064898490906, 0.18347783386707306, 0.254046231508255, 0.20386426150798798, 0.18818239867687225, 0.170932337641716, 0.25360107421875, 0.14154478907585144, 0.1769309937953949, 0.26834532618522644, 0.15923789143562317, 0.19775132834911346, 0.1318342238664627, 0.30761319398880005, 0.15380659699440002, 0.19775132834911346, 0.2639435827732086, 0.2639435827732086, 0.2639435827732086, 0.2639435827732086, 0.39124947786331177, 0.20713207125663757, 0.11507337540388107, 0.11507337540388107, 0.16110272705554962, 0.5278499126434326, 0.5278499126434326], \"Term\": [\"abiance\", \"able\", \"able\", \"able\", \"able\", \"able\", \"acknowledge\", \"acknowledge\", \"acknowledge\", \"acknowledge\", \"acknowledge\", \"actually\", \"actually\", \"actually\", \"actually\", \"actually\", \"adrianna\", \"advisors\", \"ahwatukee\", \"ahwatukee\", \"ahwatukee\", \"ahwatukee\", \"ahwatukee\", \"airlines\", \"airlines\", \"airlines\", \"airlines\", \"airlines\", \"amazing\", \"amazing\", \"amazing\", \"amazing\", \"amazing\", \"american\", \"american\", \"american\", \"american\", \"american\", \"andre\", \"andre\", \"andre\", \"andre\", \"appointment\", \"appointment\", \"appointment\", \"appointment\", \"appointment\", \"area\", \"area\", \"area\", \"area\", \"area\", \"asked\", \"asked\", \"asked\", \"asked\", \"asked\", \"attentive\", \"attentive\", \"attentive\", \"attentive\", \"attentive\", \"authentic\", \"authentic\", \"authentic\", \"authentic\", \"authentic\", \"avarage\", \"awesome\", \"awesome\", \"awesome\", \"awesome\", \"awesome\", \"bar\", \"bar\", \"bar\", \"bar\", \"bar\", \"barbers\", \"barbers\", \"barbers\", \"barbers\", \"barbers\", \"bargains\", \"bargains\", \"bargains\", \"bargains\", \"bargains\", \"beatles\", \"beatles\", \"beatles\", \"beatles\", \"beatles\", \"beef\", \"beef\", \"beef\", \"beef\", \"beef\", \"bensimon\", \"best\", \"best\", \"best\", \"best\", \"best\", \"better\", \"better\", \"better\", \"better\", \"better\", \"bigger\", \"bigger\", \"bigger\", \"bigger\", \"bigger\", \"bit\", \"bit\", \"bit\", \"bit\", \"bit\", \"bods\", \"bread\", \"bread\", \"bread\", \"bread\", \"bread\", \"breast\", \"breast\", \"breast\", \"breast\", \"breast\", \"brice\", \"brice\", \"brice\", \"buttered\", \"buttered\", \"buttered\", \"buttered\", \"buttered\", \"came\", \"came\", \"came\", \"came\", \"came\", \"card\", \"card\", \"card\", \"card\", \"card\", \"center\", \"center\", \"center\", \"center\", \"center\", \"central\", \"central\", \"central\", \"central\", \"central\", \"certainly\", \"certainly\", \"certainly\", \"certainly\", \"certainly\", \"charge\", \"charge\", \"charge\", \"charge\", \"charge\", \"charged\", \"charged\", \"charged\", \"charged\", \"charged\", \"checkup\", \"cheese\", \"cheese\", \"cheese\", \"cheese\", \"cheese\", \"cheesecake\", \"cheesecake\", \"cheesecake\", \"cheesecake\", \"cheesecake\", \"chicken\", \"chicken\", \"chicken\", \"chicken\", \"chicken\", \"chkn\", \"ch\\u00e8re\", \"cigarets\", \"clean\", \"clean\", \"clean\", \"clean\", \"clean\", \"cleaner\", \"cleaner\", \"cleaner\", \"cleaner\", \"cleaner\", \"clickers\", \"color\", \"color\", \"color\", \"color\", \"color\", \"come\", \"come\", \"come\", \"come\", \"come\", \"cotton\", \"cotton\", \"cotton\", \"cotton\", \"cotton\", \"couple\", \"couple\", \"couple\", \"couple\", \"couple\", \"coupons\", \"coupons\", \"coupons\", \"coupons\", \"coupons\", \"craigslist\", \"craigslist\", \"craigslist\", \"craigslist\", \"craigslist\", \"craving\", \"craving\", \"craving\", \"craving\", \"craving\", \"crews\", \"crews\", \"customer\", \"customer\", \"customer\", \"customer\", \"customer\", \"customers\", \"customers\", \"customers\", \"customers\", \"customers\", \"daaayyuuummm\", \"darlene\", \"davee\", \"davee\", \"davee\", \"davee\", \"davee\", \"day\", \"day\", \"day\", \"day\", \"day\", \"dayvid\", \"debi\", \"debi\", \"debi\", \"debi\", \"debi\", \"definitely\", \"definitely\", \"definitely\", \"definitely\", \"definitely\", \"delicious\", \"delicious\", \"delicious\", \"delicious\", \"delicious\", \"delivery\", \"delivery\", \"delivery\", \"delivery\", \"delivery\", \"depot\", \"depot\", \"depot\", \"depot\", \"depot\", \"desk\", \"desk\", \"desk\", \"desk\", \"desk\", \"dish\", \"dish\", \"dish\", \"dish\", \"dish\", \"disposal\", \"disposal\", \"disposal\", \"disposal\", \"disposal\", \"diwali\", \"donair\", \"donair\", \"donair\", \"donair\", \"dr\", \"dr\", \"dr\", \"dr\", \"dr\", \"drink\", \"drink\", \"drink\", \"drink\", \"drink\", \"drinks\", \"drinks\", \"drinks\", \"drinks\", \"drinks\", \"eat\", \"eat\", \"eat\", \"eat\", \"eat\", \"ebenezer\", \"ebenezer\", \"ebenezer\", \"ebenezer\", \"ebenezer\", \"elotes\", \"emails\", \"emails\", \"emails\", \"emails\", \"emails\", \"engages\", \"enjoyed\", \"enjoyed\", \"enjoyed\", \"enjoyed\", \"enjoyed\", \"everrrrr\", \"excellent\", \"excellent\", \"excellent\", \"excellent\", \"excellent\", \"excepts\", \"experience\", \"experience\", \"experience\", \"experience\", \"experience\", \"fact\", \"fact\", \"fact\", \"fact\", \"fact\", \"fandom\", \"far\", \"far\", \"far\", \"far\", \"far\", \"figures\", \"figures\", \"figures\", \"figures\", \"figures\", \"fires\", \"fires\", \"fires\", \"fires\", \"fires\", \"fitforabride\", \"fitforabride\", \"fitforabride\", \"floor\", \"floor\", \"floor\", \"floor\", \"floor\", \"flush\", \"flush\", \"flush\", \"flush\", \"flush\", \"food\", \"food\", \"food\", \"food\", \"food\", \"foodies\", \"foodies\", \"foodies\", \"foodies\", \"foodies\", \"free\", \"free\", \"free\", \"free\", \"free\", \"fresh\", \"fresh\", \"fresh\", \"fresh\", \"fresh\", \"fried\", \"fried\", \"fried\", \"fried\", \"fried\", \"friend\", \"friend\", \"friend\", \"friend\", \"friend\", \"friendly\", \"friendly\", \"friendly\", \"friendly\", \"friendly\", \"gel\", \"gel\", \"gel\", \"gel\", \"gel\", \"getting\", \"getting\", \"getting\", \"getting\", \"getting\", \"glad\", \"glad\", \"glad\", \"glad\", \"glad\", \"going\", \"going\", \"going\", \"going\", \"going\", \"golfweek\", \"good\", \"good\", \"good\", \"good\", \"good\", \"got\", \"got\", \"got\", \"got\", \"got\", \"gourmandine\", \"gourmandine\", \"gourmandine\", \"gourmandine\", \"great\", \"great\", \"great\", \"great\", \"great\", \"ground\", \"ground\", \"ground\", \"ground\", \"ground\", \"ha\", \"ha\", \"ha\", \"ha\", \"ha\", \"hair\", \"hair\", \"hair\", \"hair\", \"hair\", \"hakka\", \"hakka\", \"hakka\", \"hakka\", \"hakka\", \"half\", \"half\", \"half\", \"half\", \"half\", \"halo\", \"halo\", \"halo\", \"halo\", \"halo\", \"happy\", \"happy\", \"happy\", \"happy\", \"happy\", \"haven\", \"haven\", \"haven\", \"haven\", \"haven\", \"helpful\", \"helpful\", \"helpful\", \"helpful\", \"helpful\", \"hoagies\", \"hoagies\", \"hoagies\", \"hoagies\", \"home\", \"home\", \"home\", \"home\", \"home\", \"hometeam\", \"hometeam\", \"hose\", \"hose\", \"hose\", \"hose\", \"hose\", \"hot\", \"hot\", \"hot\", \"hot\", \"hot\", \"hours\", \"hours\", \"hours\", \"hours\", \"hours\", \"h\\u00f4te\", \"h\\u00f4te\", \"h\\u00f4te\", \"ihop\", \"ihop\", \"ihop\", \"ihop\", \"ihop\", \"imax\", \"imax\", \"imax\", \"imax\", \"imax\", \"imcomplete\", \"ironman\", \"itech\", \"jack\", \"jack\", \"jack\", \"jack\", \"jack\", \"jeffery\", \"jina\", \"juice\", \"juice\", \"juice\", \"juice\", \"juice\", \"jumpy\", \"jumpy\", \"jumpy\", \"jumpy\", \"kahuku\", \"kahuku\", \"kahuku\", \"kahuku\", \"kahuku\", \"kashi\", \"kathy\", \"kathy\", \"kathy\", \"kathy\", \"kathy\", \"keen\", \"keen\", \"keen\", \"keen\", \"keen\", \"kids\", \"kids\", \"kids\", \"kids\", \"kids\", \"kind\", \"kind\", \"kind\", \"kind\", \"kind\", \"knew\", \"knew\", \"knew\", \"knew\", \"knew\", \"know\", \"know\", \"know\", \"know\", \"know\", \"kouign\", \"kouign\", \"kouign\", \"kristy\", \"la\", \"la\", \"la\", \"la\", \"la\", \"learned\", \"learned\", \"learned\", \"learned\", \"learned\", \"left\", \"left\", \"left\", \"left\", \"left\", \"let\", \"let\", \"let\", \"let\", \"let\", \"like\", \"like\", \"like\", \"like\", \"like\", \"limeade\", \"line\", \"line\", \"line\", \"line\", \"line\", \"little\", \"little\", \"little\", \"little\", \"little\", \"livraison\", \"long\", \"long\", \"long\", \"long\", \"long\", \"look\", \"look\", \"look\", \"look\", \"look\", \"love\", \"love\", \"love\", \"love\", \"love\", \"lucky\", \"lucky\", \"lucky\", \"lucky\", \"lucky\", \"luxuriously\", \"makes\", \"makes\", \"makes\", \"makes\", \"makes\", \"matthew\", \"matthew\", \"maycayos\", \"meal\", \"meal\", \"meal\", \"meal\", \"meal\", \"meat\", \"meat\", \"meat\", \"meat\", \"meat\", \"meatball\", \"meatball\", \"meatball\", \"meatball\", \"meatball\", \"melinda\", \"melinda\", \"menu\", \"menu\", \"menu\", \"menu\", \"menu\", \"mercury\", \"mercury\", \"meth\", \"minute\", \"minute\", \"minute\", \"minute\", \"minute\", \"minutes\", \"minutes\", \"minutes\", \"minutes\", \"minutes\", \"mixer\", \"mixer\", \"mixer\", \"money\", \"money\", \"money\", \"money\", \"money\", \"morels\", \"morels\", \"morels\", \"morels\", \"morels\", \"mouthgasms\", \"mouthgasms\", \"mouthgasms\", \"mouthgasms\", \"mouthgasms\", \"need\", \"need\", \"need\", \"need\", \"need\", \"neil\", \"neuter\", \"neuter\", \"neuter\", \"neuter\", \"neuter\", \"new\", \"new\", \"new\", \"new\", \"new\", \"nice\", \"nice\", \"nice\", \"nice\", \"nice\", \"nicely\", \"nicely\", \"nicely\", \"nicely\", \"nicely\", \"night\", \"night\", \"night\", \"night\", \"night\", \"noel\", \"noel\", \"noel\", \"numbed\", \"numbed\", \"numbed\", \"offender\", \"oil\", \"oil\", \"oil\", \"oil\", \"oil\", \"order\", \"order\", \"order\", \"order\", \"order\", \"ordered\", \"ordered\", \"ordered\", \"ordered\", \"ordered\", \"outbacks\", \"outer\", \"outer\", \"outer\", \"outer\", \"outer\", \"pad\", \"pad\", \"pad\", \"pad\", \"pad\", \"pants\", \"pants\", \"pants\", \"pants\", \"pants\", \"paper\", \"paper\", \"paper\", \"paper\", \"paper\", \"park\", \"park\", \"park\", \"park\", \"park\", \"parts\", \"parts\", \"parts\", \"parts\", \"parts\", \"party\", \"party\", \"party\", \"party\", \"party\", \"pay\", \"pay\", \"pay\", \"pay\", \"pay\", \"penetrated\", \"people\", \"people\", \"people\", \"people\", \"people\", \"pho\", \"pho\", \"pho\", \"pho\", \"pho\", \"phone\", \"phone\", \"phone\", \"phone\", \"phone\", \"photographer\", \"photographer\", \"photographer\", \"photographer\", \"photographer\", \"pierogi\", \"pierogi\", \"pierogi\", \"pierogi\", \"pierogi\", \"place\", \"place\", \"place\", \"place\", \"place\", \"play\", \"play\", \"play\", \"play\", \"play\", \"pleasant\", \"pleasant\", \"pleasant\", \"pleasant\", \"pleasant\", \"pm\", \"pm\", \"pm\", \"pm\", \"pm\", \"polished\", \"polished\", \"polished\", \"polished\", \"polished\", \"pond\", \"pond\", \"pond\", \"pond\", \"pond\", \"pork\", \"pork\", \"pork\", \"pork\", \"pork\", \"pottery\", \"pottery\", \"pottery\", \"pottery\", \"pottery\", \"pretty\", \"pretty\", \"pretty\", \"pretty\", \"pretty\", \"price\", \"price\", \"price\", \"price\", \"price\", \"prices\", \"prices\", \"prices\", \"prices\", \"prices\", \"prius\", \"prius\", \"products\", \"products\", \"products\", \"products\", \"products\", \"provide\", \"provide\", \"provide\", \"provide\", \"provide\", \"pruitt\", \"puffs\", \"puffs\", \"puffs\", \"puffs\", \"puffs\", \"quiznos\", \"quiznos\", \"quiznos\", \"quiznos\", \"quotes\", \"quotes\", \"quotes\", \"quotes\", \"quotes\", \"reasonable\", \"reasonable\", \"reasonable\", \"reasonable\", \"reasonable\", \"reasonablely\", \"recommend\", \"recommend\", \"recommend\", \"recommend\", \"recommend\", \"referral\", \"referral\", \"referral\", \"referral\", \"referral\", \"regularly\", \"regularly\", \"regularly\", \"regularly\", \"regularly\", \"renamed\", \"renamed\", \"repair\", \"repair\", \"repair\", \"repair\", \"repair\", \"reserve\", \"reserve\", \"reserve\", \"reserve\", \"reserve\", \"restaurant\", \"restaurant\", \"restaurant\", \"restaurant\", \"restaurant\", \"resume\", \"resume\", \"resume\", \"resume\", \"resume\", \"review\", \"review\", \"review\", \"review\", \"review\", \"rice\", \"rice\", \"rice\", \"rice\", \"rice\", \"right\", \"right\", \"right\", \"right\", \"right\", \"rocks\", \"rocks\", \"rocks\", \"rocks\", \"rocks\", \"rode\", \"rode\", \"rode\", \"rode\", \"rode\", \"room\", \"room\", \"room\", \"room\", \"room\", \"rules\", \"rules\", \"rules\", \"rules\", \"rules\", \"rx\", \"rx\", \"rx\", \"rx\", \"rx\", \"sabatino\", \"said\", \"said\", \"said\", \"said\", \"said\", \"salad\", \"salad\", \"salad\", \"salad\", \"salad\", \"sammy\", \"sammy\", \"sammy\", \"sammy\", \"sammy\", \"senator\", \"senator\", \"senator\", \"service\", \"service\", \"service\", \"service\", \"service\", \"shared\", \"shared\", \"shared\", \"shared\", \"shared\", \"shop\", \"shop\", \"shop\", \"shop\", \"shop\", \"shula\", \"shula\", \"shula\", \"shula\", \"shula\", \"sign\", \"sign\", \"sign\", \"sign\", \"sign\", \"sit\", \"sit\", \"sit\", \"sit\", \"sit\", \"slooooow\", \"son\", \"son\", \"son\", \"son\", \"son\", \"sont\", \"sont\", \"sont\", \"sont\", \"sont\", \"space\", \"space\", \"space\", \"space\", \"space\", \"spago\", \"spago\", \"spago\", \"spago\", \"spago\", \"special\", \"special\", \"special\", \"special\", \"special\", \"stabbed\", \"stabbed\", \"staff\", \"staff\", \"staff\", \"staff\", \"staff\", \"staying\", \"staying\", \"staying\", \"staying\", \"staying\", \"store\", \"store\", \"store\", \"store\", \"store\", \"strips\", \"strips\", \"strips\", \"strips\", \"strips\", \"struggled\", \"struggled\", \"struggled\", \"struggled\", \"struggled\", \"studded\", \"studded\", \"stunning\", \"stunning\", \"stunning\", \"stunning\", \"stunning\", \"suadero\", \"sure\", \"sure\", \"sure\", \"sure\", \"sure\", \"suzi\", \"suzi\", \"suzi\", \"suzi\", \"suzi\", \"sweepstakes\", \"sweepstakes\", \"sweepstakes\", \"sweepstakes\", \"sweepstakes\", \"sweet\", \"sweet\", \"sweet\", \"sweet\", \"sweet\", \"swordfish\", \"swordfish\", \"taking\", \"taking\", \"taking\", \"taking\", \"taking\", \"tasty\", \"tasty\", \"tasty\", \"tasty\", \"tasty\", \"tell\", \"tell\", \"tell\", \"tell\", \"tell\", \"teller\", \"teller\", \"teller\", \"teller\", \"teller\", \"tellers\", \"tender\", \"tender\", \"tender\", \"tender\", \"tender\", \"thi\", \"thi\", \"thing\", \"thing\", \"thing\", \"thing\", \"thing\", \"think\", \"think\", \"think\", \"think\", \"think\", \"thompson\", \"time\", \"time\", \"time\", \"time\", \"time\", \"times\", \"times\", \"times\", \"times\", \"times\", \"tn\", \"told\", \"told\", \"told\", \"told\", \"told\", \"took\", \"took\", \"took\", \"took\", \"took\", \"town\", \"town\", \"town\", \"town\", \"town\", \"treated\", \"treated\", \"treated\", \"treated\", \"treated\", \"trim\", \"trim\", \"trim\", \"trim\", \"trim\", \"true\", \"true\", \"true\", \"true\", \"true\", \"try\", \"try\", \"try\", \"try\", \"try\", \"tulips\", \"tulips\", \"tuna\", \"tuna\", \"tuna\", \"tuna\", \"tuna\", \"turds\", \"turon\", \"unforgettable\", \"unforgettable\", \"unimpressive\", \"unimpressive\", \"unique\", \"unique\", \"unique\", \"unique\", \"unique\", \"unite\", \"unorganized\", \"unorganized\", \"unorganized\", \"unorganized\", \"unorganized\", \"vail\", \"vail\", \"ve\", \"ve\", \"ve\", \"ve\", \"ve\", \"vegas\", \"vegas\", \"vegas\", \"vegas\", \"vegas\", \"vege\", \"vege\", \"vege\", \"veggie\", \"veggie\", \"veggie\", \"veggie\", \"veggie\", \"veggys\", \"visite\", \"visite\", \"visite\", \"visite\", \"vivacious\", \"waisting\", \"wait\", \"wait\", \"wait\", \"wait\", \"wait\", \"want\", \"want\", \"want\", \"want\", \"want\", \"wanted\", \"wanted\", \"wanted\", \"wanted\", \"wanted\", \"way\", \"way\", \"way\", \"way\", \"way\", \"weedays\", \"weeks\", \"weeks\", \"weeks\", \"weeks\", \"weeks\", \"welcomed\", \"welcomed\", \"welcomed\", \"welcomed\", \"welcomed\", \"went\", \"went\", \"went\", \"went\", \"went\", \"won\", \"won\", \"won\", \"won\", \"won\", \"woop\", \"woop\", \"woop\", \"working\", \"working\", \"working\", \"working\", \"working\", \"worst\", \"worst\", \"worst\", \"worst\", \"worst\", \"worth\", \"worth\", \"worth\", \"worth\", \"worth\", \"wrong\", \"wrong\", \"wrong\", \"wrong\", \"wrong\", \"wynn\", \"wynn\", \"wynn\", \"wynn\", \"wynn\", \"yu\", \"yu\", \"yu\", \"yu\", \"yuk\", \"yuk\", \"yuk\", \"yuk\", \"yuk\", \"\\u3068\\u3066\\u3082\\u6c17\\u306b\\u5165\\u308a\\u307e\\u3057\\u305f\", \"\\u3068\\u3066\\u3082\\u6c17\\u306b\\u5165\\u308a\\u307e\\u3057\\u305f\"]}, \"R\": 30, \"lambda.step\": 0.01, \"plot.opts\": {\"xlab\": \"PC1\", \"ylab\": \"PC2\"}, \"topic.order\": [2, 4, 1, 5, 3]};\n",
       "\n",
       "function LDAvis_load_lib(url, callback){\n",
       "  var s = document.createElement('script');\n",
       "  s.src = url;\n",
       "  s.async = true;\n",
       "  s.onreadystatechange = s.onload = callback;\n",
       "  s.onerror = function(){console.warn(\"failed to load library \" + url);};\n",
       "  document.getElementsByTagName(\"head\")[0].appendChild(s);\n",
       "}\n",
       "\n",
       "if(typeof(LDAvis) !== \"undefined\"){\n",
       "   // already loaded: just create the visualization\n",
       "   !function(LDAvis){\n",
       "       new LDAvis(\"#\" + \"ldavis_el1632412819457768008632351747\", ldavis_el1632412819457768008632351747_data);\n",
       "   }(LDAvis);\n",
       "}else if(typeof define === \"function\" && define.amd){\n",
       "   // require.js is available: use it to load d3/LDAvis\n",
       "   require.config({paths: {d3: \"https://cdnjs.cloudflare.com/ajax/libs/d3/3.5.5/d3.min\"}});\n",
       "   require([\"d3\"], function(d3){\n",
       "      window.d3 = d3;\n",
       "      LDAvis_load_lib(\"https://cdn.rawgit.com/bmabey/pyLDAvis/files/ldavis.v1.0.0.js\", function(){\n",
       "        new LDAvis(\"#\" + \"ldavis_el1632412819457768008632351747\", ldavis_el1632412819457768008632351747_data);\n",
       "      });\n",
       "    });\n",
       "}else{\n",
       "    // require.js not available: dynamically load d3 & LDAvis\n",
       "    LDAvis_load_lib(\"https://cdnjs.cloudflare.com/ajax/libs/d3/3.5.5/d3.min.js\", function(){\n",
       "         LDAvis_load_lib(\"https://cdn.rawgit.com/bmabey/pyLDAvis/files/ldavis.v1.0.0.js\", function(){\n",
       "                 new LDAvis(\"#\" + \"ldavis_el1632412819457768008632351747\", ldavis_el1632412819457768008632351747_data);\n",
       "            })\n",
       "         });\n",
       "}\n",
       "</script>"
      ],
      "text/plain": [
       "PreparedData(topic_coordinates=              x         y  topics  cluster       Freq\n",
       "topic                                                \n",
       "1     -0.000162  0.000423       1        1  20.308809\n",
       "3      0.001422 -0.002171       2        1  20.004595\n",
       "0     -0.003573 -0.003060       3        1  19.984623\n",
       "4      0.004382  0.000336       4        1  19.927944\n",
       "2     -0.002068  0.004471       5        1  19.774033, topic_info=     Category         Freq        Term        Total  loglift  logprob\n",
       "208   Default  4071.000000       great  4071.000000  30.0000  30.0000\n",
       "651   Default  1382.000000  restaurant  1382.000000  29.0000  29.0000\n",
       "75    Default  1964.000000         got  1964.000000  28.0000  28.0000\n",
       "133   Default  4577.000000       place  4577.000000  27.0000  27.0000\n",
       "351   Default  1393.000000        come  1393.000000  26.0000  26.0000\n",
       "144   Default  4810.000000        food  4810.000000  25.0000  25.0000\n",
       "45    Default  3500.000000     service  3500.000000  24.0000  24.0000\n",
       "131   Default  1355.000000      people  1355.000000  23.0000  23.0000\n",
       "122   Default  1656.000000        best  1656.000000  22.0000  22.0000\n",
       "165   Default   852.000000       think   852.000000  21.0000  21.0000\n",
       "310   Default  1366.000000         try  1366.000000  20.0000  20.0000\n",
       "18    Default  3375.000000        like  3375.000000  19.0000  19.0000\n",
       "34    Default  3267.000000        time  3267.000000  18.0000  18.0000\n",
       "265   Default   416.000000         far   416.000000  17.0000  17.0000\n",
       "108   Default   922.000000        sure   922.000000  16.0000  16.0000\n",
       "94    Default   904.000000       night   904.000000  15.0000  15.0000\n",
       "581   Default   510.000000      friend   510.000000  14.0000  14.0000\n",
       "46    Default  1515.000000       staff  1515.000000  13.0000  13.0000\n",
       "137   Default   912.000000         bar   912.000000  12.0000  12.0000\n",
       "763   Default   388.000000         won   388.000000  11.0000  11.0000\n",
       "37    Default  1472.000000        came  1472.000000  10.0000  10.0000\n",
       "661   Default   720.000000      drinks   720.000000   9.0000   9.0000\n",
       "387   Default  1494.000000       order  1494.000000   8.0000   8.0000\n",
       "599   Default   446.000000      review   446.000000   7.0000   7.0000\n",
       "526   Default   925.000000        told   925.000000   6.0000   6.0000\n",
       "180   Default  1212.000000        menu  1212.000000   5.0000   5.0000\n",
       "689   Default   410.000000        town   410.000000   4.0000   4.0000\n",
       "313   Default  1009.000000        want  1009.000000   3.0000   3.0000\n",
       "25    Default   835.000000     minutes   835.000000   2.0000   2.0000\n",
       "798   Default   546.000000        free   546.000000   1.0000   1.0000\n",
       "...       ...          ...         ...          ...      ...      ...\n",
       "185    Topic5    63.436996       space   233.430832   0.3180  -7.3117\n",
       "40     Topic5   987.705505        good  4555.338379   0.0921  -4.5664\n",
       "381    Topic5   319.582520      little  1338.702148   0.1884  -5.6948\n",
       "387    Topic5   351.619324       order  1494.918213   0.1735  -5.5992\n",
       "1277   Topic5   310.751007     chicken  1340.339600   0.1591  -5.7228\n",
       "18     Topic5   713.280823        like  3375.517090   0.0664  -4.8919\n",
       "1066   Topic5   258.852325         new  1111.435303   0.1637  -5.9055\n",
       "371    Topic5   213.687729       fresh   902.379517   0.1803  -6.0973\n",
       "85     Topic5   179.063080        long   742.617065   0.1984  -6.2740\n",
       "246    Topic5   234.898651       right  1015.591187   0.1567  -6.0026\n",
       "651    Topic5   305.399475  restaurant  1382.677246   0.1106  -5.7402\n",
       "45     Topic5   642.607544     service  3500.611816  -0.0744  -4.9962\n",
       "92     Topic5   344.298462        nice  1658.380859   0.0487  -5.6203\n",
       "122    Topic5   336.676392        best  1656.206665   0.0276  -5.6427\n",
       "133    Topic5   738.171631       place  4577.951172  -0.2040  -4.8576\n",
       "358    Topic5   286.585266  definitely  1389.212402   0.0423  -5.8037\n",
       "180    Topic5   254.520081        menu  1212.104004   0.0601  -5.9224\n",
       "46     Topic5   292.046539       staff  1515.029663  -0.0255  -5.7849\n",
       "156    Topic5   222.316193      pretty  1029.461914   0.0881  -6.0577\n",
       "34     Topic5   492.283051        time  3267.159668  -0.2718  -5.2627\n",
       "735    Topic5   298.646240        love  1598.763062  -0.0569  -5.7625\n",
       "117    Topic5   272.318115        went  1418.250122  -0.0294  -5.8548\n",
       "75     Topic5   333.729706         got  1964.073242  -0.1516  -5.6514\n",
       "208    Topic5   486.857971       great  4071.195312  -0.5029  -5.2738\n",
       "131    Topic5   251.595413      people  1355.188721  -0.0631  -5.9340\n",
       "426    Topic5   226.854630      better  1106.104858   0.0365  -6.0375\n",
       "115    Topic5   284.936646          ve  1822.885132  -0.2351  -5.8095\n",
       "264    Topic5   234.121094  experience  1227.484619  -0.0361  -6.0059\n",
       "192    Topic5   235.410950     amazing  1273.605957  -0.0675  -6.0004\n",
       "1266   Topic5   241.168610     ordered  1468.458862  -0.1857  -5.9763\n",
       "\n",
       "[471 rows x 6 columns], token_table=       Topic      Freq         Term\n",
       "term                               \n",
       "21950      3  0.527237      abiance\n",
       "1679       1  0.270566         able\n",
       "1679       2  0.192518         able\n",
       "1679       3  0.148291         able\n",
       "1679       4  0.205526         able\n",
       "1679       5  0.184714         able\n",
       "3790       1  0.210801  acknowledge\n",
       "3790       2  0.158101  acknowledge\n",
       "3790       3  0.158101  acknowledge\n",
       "3790       4  0.158101  acknowledge\n",
       "3790       5  0.316201  acknowledge\n",
       "121        1  0.192024     actually\n",
       "121        2  0.179501     actually\n",
       "121        3  0.158628     actually\n",
       "121        4  0.189937     actually\n",
       "121        5  0.279687     actually\n",
       "4674       2  0.527867     adrianna\n",
       "21145      1  0.352603     advisors\n",
       "8163       1  0.150595    ahwatukee\n",
       "8163       2  0.150595    ahwatukee\n",
       "8163       3  0.301190    ahwatukee\n",
       "8163       4  0.150595    ahwatukee\n",
       "8163       5  0.150595    ahwatukee\n",
       "12846      1  0.186383     airlines\n",
       "12846      2  0.310638     airlines\n",
       "12846      3  0.124255     airlines\n",
       "12846      4  0.248511     airlines\n",
       "12846      5  0.124255     airlines\n",
       "192        1  0.251255      amazing\n",
       "192        2  0.197863      amazing\n",
       "...      ...       ...          ...\n",
       "536        2  0.281046        worst\n",
       "536        3  0.198788        worst\n",
       "536        4  0.215925        worst\n",
       "536        5  0.130241        worst\n",
       "764        1  0.183478        worth\n",
       "764        2  0.254046        worth\n",
       "764        3  0.203864        worth\n",
       "764        4  0.188182        worth\n",
       "764        5  0.170932        worth\n",
       "818        1  0.253601        wrong\n",
       "818        2  0.141545        wrong\n",
       "818        3  0.176931        wrong\n",
       "818        4  0.268345        wrong\n",
       "818        5  0.159238        wrong\n",
       "118        1  0.197751         wynn\n",
       "118        2  0.131834         wynn\n",
       "118        3  0.307613         wynn\n",
       "118        4  0.153807         wynn\n",
       "118        5  0.197751         wynn\n",
       "20280      1  0.263944           yu\n",
       "20280      2  0.263944           yu\n",
       "20280      4  0.263944           yu\n",
       "20280      5  0.263944           yu\n",
       "13098      1  0.391249          yuk\n",
       "13098      2  0.207132          yuk\n",
       "13098      3  0.115073          yuk\n",
       "13098      4  0.115073          yuk\n",
       "13098      5  0.161103          yuk\n",
       "21304      2  0.527850   とても気に入りました\n",
       "21304      3  0.527850   とても気に入りました\n",
       "\n",
       "[1361 rows x 3 columns], R=30, lambda_step=0.01, plot_opts={'xlab': 'PC1', 'ylab': 'PC2'}, topic_order=[2, 4, 1, 5, 3])"
      ]
     },
     "execution_count": 98,
     "metadata": {},
     "output_type": "execute_result"
    }
   ],
   "source": [
    "import pyLDAvis.gensim\n",
    "\n",
    "pyLDAvis.enable_notebook()\n",
    "pyLDAvis.gensim.prepare(lda, corpus, id2word)"
   ]
  },
  {
   "cell_type": "code",
   "execution_count": 102,
   "metadata": {},
   "outputs": [
    {
     "data": {
      "image/png": "[encoded data removed]",
      "text/plain": [
       "<Figure size 432x288 with 1 Axes>"
      ]
     },
     "metadata": {
      "needs_background": "light"
     },
     "output_type": "display_data"
    },
    {
     "data": {
      "image/png": "[encoded data removed]",
      "text/plain": [
       "<Figure size 432x288 with 1 Axes>"
      ]
     },
     "metadata": {
      "needs_background": "light"
     },
     "output_type": "display_data"
    },
    {
     "data": {
      "image/png": "[encoded data removed]",
      "text/plain": [
       "<Figure size 432x288 with 1 Axes>"
      ]
     },
     "metadata": {
      "needs_background": "light"
     },
     "output_type": "display_data"
    },
    {
     "data": {
      "image/png": "[encoded data removed]",
      "text/plain": [
       "<Figure size 432x288 with 1 Axes>"
      ]
     },
     "metadata": {
      "needs_background": "light"
     },
     "output_type": "display_data"
    },
    {
     "data": {
      "image/png": "[encoded data removed]",
      "text/plain": [
       "<Figure size 432x288 with 1 Axes>"
      ]
     },
     "metadata": {
      "needs_background": "light"
     },
     "output_type": "display_data"
    }
   ],
   "source": [
    "scores = [re.findall(r\"\\d+\\.\\d+\", t[1]) for t in lda.print_topics()]\n",
    "\n",
    "import matplotlib.pyplot as plt\n",
    "\n",
    "for i in range(len(words)):\n",
    "    ys = [float(li) for li in scores[i]]\n",
    "    plt.plot(words[i], ys)\n",
    "    plt.show()"
   ]
  },
  {
   "cell_type": "code",
   "execution_count": 104,
   "metadata": {},
   "outputs": [
    {
     "data": {
      "text/html": [
       "<div>\n",
       "<style scoped>\n",
       "    .dataframe tbody tr th:only-of-type {\n",
       "        vertical-align: middle;\n",
       "    }\n",
       "\n",
       "    .dataframe tbody tr th {\n",
       "        vertical-align: top;\n",
       "    }\n",
       "\n",
       "    .dataframe thead th {\n",
       "        text-align: right;\n",
       "    }\n",
       "</style>\n",
       "<table border=\"1\" class=\"dataframe\">\n",
       "  <thead>\n",
       "    <tr style=\"text-align: right;\">\n",
       "      <th></th>\n",
       "      <th>word</th>\n",
       "      <th>appears_in</th>\n",
       "      <th>count</th>\n",
       "      <th>rank</th>\n",
       "      <th>pct_total</th>\n",
       "      <th>cul_pct_total</th>\n",
       "      <th>appears_in_pct</th>\n",
       "    </tr>\n",
       "  </thead>\n",
       "  <tbody>\n",
       "    <tr>\n",
       "      <th>150</th>\n",
       "      <td>food</td>\n",
       "      <td>3363</td>\n",
       "      <td>5071</td>\n",
       "      <td>1.0</td>\n",
       "      <td>0.010554</td>\n",
       "      <td>0.010554</td>\n",
       "      <td>0.336334</td>\n",
       "    </tr>\n",
       "    <tr>\n",
       "      <th>125</th>\n",
       "      <td>place</td>\n",
       "      <td>3385</td>\n",
       "      <td>4832</td>\n",
       "      <td>2.0</td>\n",
       "      <td>0.010056</td>\n",
       "      <td>0.020610</td>\n",
       "      <td>0.338534</td>\n",
       "    </tr>\n",
       "    <tr>\n",
       "      <th>46</th>\n",
       "      <td>good</td>\n",
       "      <td>3228</td>\n",
       "      <td>4806</td>\n",
       "      <td>3.0</td>\n",
       "      <td>0.010002</td>\n",
       "      <td>0.030612</td>\n",
       "      <td>0.322832</td>\n",
       "    </tr>\n",
       "    <tr>\n",
       "      <th>232</th>\n",
       "      <td>great</td>\n",
       "      <td>3101</td>\n",
       "      <td>4297</td>\n",
       "      <td>4.0</td>\n",
       "      <td>0.008943</td>\n",
       "      <td>0.039555</td>\n",
       "      <td>0.310131</td>\n",
       "    </tr>\n",
       "    <tr>\n",
       "      <th>40</th>\n",
       "      <td>service</td>\n",
       "      <td>2987</td>\n",
       "      <td>3695</td>\n",
       "      <td>5.0</td>\n",
       "      <td>0.007690</td>\n",
       "      <td>0.047245</td>\n",
       "      <td>0.298730</td>\n",
       "    </tr>\n",
       "  </tbody>\n",
       "</table>\n",
       "</div>"
      ],
      "text/plain": [
       "        word  appears_in  count  rank  pct_total  cul_pct_total  \\\n",
       "150     food        3363   5071   1.0   0.010554       0.010554   \n",
       "125    place        3385   4832   2.0   0.010056       0.020610   \n",
       "46      good        3228   4806   3.0   0.010002       0.030612   \n",
       "232    great        3101   4297   4.0   0.008943       0.039555   \n",
       "40   service        2987   3695   5.0   0.007690       0.047245   \n",
       "\n",
       "     appears_in_pct  \n",
       "150        0.336334  \n",
       "125        0.338534  \n",
       "46         0.322832  \n",
       "232        0.310131  \n",
       "40         0.298730  "
      ]
     },
     "execution_count": 104,
     "metadata": {},
     "output_type": "execute_result"
    }
   ],
   "source": [
    "from collections import Counter\n",
    "\n",
    "# The object `Counter` takes an iterable, but you can instaniate an empty one and update it. \n",
    "word_counts = Counter()\n",
    "\n",
    "def count(docs):\n",
    "\n",
    "        word_counts = Counter()\n",
    "        appears_in = Counter()\n",
    "        \n",
    "        total_docs = len(docs)\n",
    "\n",
    "        for doc in docs:\n",
    "            word_counts.update(doc)\n",
    "            appears_in.update(set(doc))\n",
    "\n",
    "        temp = zip(word_counts.keys(), word_counts.values())\n",
    "        \n",
    "        wc = pd.DataFrame(temp, columns = ['word', 'count'])\n",
    "\n",
    "        wc['rank'] = wc['count'].rank(method='first', ascending=False)\n",
    "        total = wc['count'].sum()\n",
    "\n",
    "        wc['pct_total'] = wc['count'].apply(lambda x: x / total)\n",
    "        \n",
    "        wc = wc.sort_values(by='rank')\n",
    "        wc['cul_pct_total'] = wc['pct_total'].cumsum()\n",
    "\n",
    "        t2 = zip(appears_in.keys(), appears_in.values())\n",
    "        ac = pd.DataFrame(t2, columns=['word', 'appears_in'])\n",
    "        wc = ac.merge(wc, on='word')\n",
    "\n",
    "        wc['appears_in_pct'] = wc['appears_in'].apply(lambda x: x / total_docs)\n",
    "        \n",
    "        return wc.sort_values(by='rank')\n",
    "    \n",
    "wc = count(yelp['tokens'])\n",
    "wc.head()"
   ]
  },
  {
   "cell_type": "code",
   "execution_count": 105,
   "metadata": {},
   "outputs": [
    {
     "data": {
      "image/png": "[encoded data removed]",
      "text/plain": [
       "<Figure size 432x288 with 1 Axes>"
      ]
     },
     "metadata": {
      "needs_background": "light"
     },
     "output_type": "display_data"
    }
   ],
   "source": [
    "import seaborn as sns\n",
    "\n",
    "\n",
    "sns.lineplot(x='rank', y='cul_pct_total', data=wc);"
   ]
  },
  {
   "cell_type": "code",
   "execution_count": 106,
   "metadata": {},
   "outputs": [
    {
     "data": {
      "image/png": "[encoded data removed]",
      "text/plain": [
       "<Figure size 432x288 with 1 Axes>"
      ]
     },
     "metadata": {
      "needs_background": "light"
     },
     "output_type": "display_data"
    }
   ],
   "source": [
    "import squarify\n",
    "import matplotlib.pyplot as plt\n",
    "\n",
    "wc_top20 = wc[wc['rank'] <= 20]\n",
    "\n",
    "squarify.plot(sizes=wc_top20['pct_total'], label=wc_top20['word'], alpha=.8 )\n",
    "plt.axis('off')\n",
    "plt.show()"
   ]
  },
  {
   "cell_type": "code",
   "execution_count": 111,
   "metadata": {},
   "outputs": [
    {
     "data": {
      "text/html": [
       "<div>\n",
       "<style scoped>\n",
       "    .dataframe tbody tr th:only-of-type {\n",
       "        vertical-align: middle;\n",
       "    }\n",
       "\n",
       "    .dataframe tbody tr th {\n",
       "        vertical-align: top;\n",
       "    }\n",
       "\n",
       "    .dataframe thead th {\n",
       "        text-align: right;\n",
       "    }\n",
       "</style>\n",
       "<table border=\"1\" class=\"dataframe\">\n",
       "  <thead>\n",
       "    <tr style=\"text-align: right;\">\n",
       "      <th></th>\n",
       "      <th>word</th>\n",
       "      <th>appears_in</th>\n",
       "      <th>count</th>\n",
       "      <th>rank</th>\n",
       "      <th>pct_total</th>\n",
       "      <th>cul_pct_total</th>\n",
       "      <th>appears_in_pct</th>\n",
       "    </tr>\n",
       "  </thead>\n",
       "  <tbody>\n",
       "    <tr>\n",
       "      <th>66</th>\n",
       "      <td>service</td>\n",
       "      <td>530</td>\n",
       "      <td>771</td>\n",
       "      <td>1.0</td>\n",
       "      <td>0.008861</td>\n",
       "      <td>0.008861</td>\n",
       "      <td>0.354278</td>\n",
       "    </tr>\n",
       "    <tr>\n",
       "      <th>427</th>\n",
       "      <td>food</td>\n",
       "      <td>408</td>\n",
       "      <td>708</td>\n",
       "      <td>2.0</td>\n",
       "      <td>0.008137</td>\n",
       "      <td>0.016997</td>\n",
       "      <td>0.272727</td>\n",
       "    </tr>\n",
       "    <tr>\n",
       "      <th>8</th>\n",
       "      <td>time</td>\n",
       "      <td>423</td>\n",
       "      <td>675</td>\n",
       "      <td>3.0</td>\n",
       "      <td>0.007757</td>\n",
       "      <td>0.024755</td>\n",
       "      <td>0.282754</td>\n",
       "    </tr>\n",
       "    <tr>\n",
       "      <th>42</th>\n",
       "      <td>place</td>\n",
       "      <td>462</td>\n",
       "      <td>665</td>\n",
       "      <td>4.0</td>\n",
       "      <td>0.007643</td>\n",
       "      <td>0.032397</td>\n",
       "      <td>0.308824</td>\n",
       "    </tr>\n",
       "    <tr>\n",
       "      <th>30</th>\n",
       "      <td>like</td>\n",
       "      <td>437</td>\n",
       "      <td>631</td>\n",
       "      <td>5.0</td>\n",
       "      <td>0.007252</td>\n",
       "      <td>0.039649</td>\n",
       "      <td>0.292112</td>\n",
       "    </tr>\n",
       "  </tbody>\n",
       "</table>\n",
       "</div>"
      ],
      "text/plain": [
       "        word  appears_in  count  rank  pct_total  cul_pct_total  \\\n",
       "66   service         530    771   1.0   0.008861       0.008861   \n",
       "427     food         408    708   2.0   0.008137       0.016997   \n",
       "8       time         423    675   3.0   0.007757       0.024755   \n",
       "42     place         462    665   4.0   0.007643       0.032397   \n",
       "30      like         437    631   5.0   0.007252       0.039649   \n",
       "\n",
       "     appears_in_pct  \n",
       "66         0.354278  \n",
       "427        0.272727  \n",
       "8          0.282754  \n",
       "42         0.308824  \n",
       "30         0.292112  "
      ]
     },
     "execution_count": 111,
     "metadata": {},
     "output_type": "execute_result"
    }
   ],
   "source": [
    "wc = count(yelp[yelp['stars'] == 1].tokens)\n",
    "wc.head()"
   ]
  },
  {
   "cell_type": "code",
   "execution_count": 112,
   "metadata": {},
   "outputs": [
    {
     "data": {
      "image/png": "[encoded data removed]",
      "text/plain": [
       "<Figure size 432x288 with 1 Axes>"
      ]
     },
     "metadata": {
      "needs_background": "light"
     },
     "output_type": "display_data"
    }
   ],
   "source": [
    "wc_top20 = wc[wc['rank'] <= 20]\n",
    "\n",
    "squarify.plot(sizes=wc_top20['pct_total'], label=wc_top20['word'], alpha=.8 )\n",
    "plt.axis('off')\n",
    "plt.show()"
   ]
  },
  {
   "cell_type": "code",
   "execution_count": 114,
   "metadata": {},
   "outputs": [],
   "source": [
    "import warnings\n",
    "warnings.filterwarnings('ignore')\n",
    "\n",
    "\n",
    "id2word = corpora.Dictionary(doc_stream(yelp.text.values))\n",
    "corpus =  [id2word.doc2bow(text) for text in doc_stream(yelp[yelp['stars'] == 1].text.values)]\n",
    "lda = LdaMulticore(corpus=corpus,\n",
    "                   id2word=id2word,\n",
    "                   iterations=5,\n",
    "                   workers=8,\n",
    "                   num_topics = 5# You can change this parameter\n",
    "                  )"
   ]
  },
  {
   "cell_type": "code",
   "execution_count": 115,
   "metadata": {},
   "outputs": [
    {
     "name": "stdout",
     "output_type": "stream",
     "text": [
      "service like told place time said asked food know order\n",
      "\n",
      "\n",
      "time like service place food got said told went people\n",
      "\n",
      "\n",
      "food time service got like place order said told people\n",
      "\n",
      "\n",
      "food service said time place like got told called ve\n",
      "\n",
      "\n",
      "service place food time said told like got asked good\n",
      "\n",
      "\n"
     ]
    }
   ],
   "source": [
    "words = [re.findall(r'\"([^\"]*)\"',t[1]) for t in lda.print_topics()]\n",
    "topics = [' '.join(t[0:10]) for t in words]\n",
    "for t in topics: \n",
    "    print(t)\n",
    "    print(\"\\n\")"
   ]
  },
  {
   "cell_type": "code",
   "execution_count": 116,
   "metadata": {},
   "outputs": [
    {
     "data": {
      "image/png": "[encoded data removed]",
      "text/plain": [
       "<Figure size 432x288 with 1 Axes>"
      ]
     },
     "metadata": {
      "needs_background": "light"
     },
     "output_type": "display_data"
    },
    {
     "data": {
      "image/png": "[encoded data removed]",
      "text/plain": [
       "<Figure size 432x288 with 1 Axes>"
      ]
     },
     "metadata": {
      "needs_background": "light"
     },
     "output_type": "display_data"
    },
    {
     "data": {
      "image/png": "[encoded data removed]",
      "text/plain": [
       "<Figure size 432x288 with 1 Axes>"
      ]
     },
     "metadata": {
      "needs_background": "light"
     },
     "output_type": "display_data"
    },
    {
     "data": {
      "image/png": "[encoded data removed]",
      "text/plain": [
       "<Figure size 432x288 with 1 Axes>"
      ]
     },
     "metadata": {
      "needs_background": "light"
     },
     "output_type": "display_data"
    },
    {
     "data": {
      "image/png": "[encoded data removed]",
      "text/plain": [
       "<Figure size 432x288 with 1 Axes>"
      ]
     },
     "metadata": {
      "needs_background": "light"
     },
     "output_type": "display_data"
    }
   ],
   "source": [
    "scores = [re.findall(r\"\\d+\\.\\d+\", t[1]) for t in lda.print_topics()]\n",
    "\n",
    "import matplotlib.pyplot as plt\n",
    "\n",
    "for i in range(len(words)):\n",
    "    ys = [float(li) for li in scores[i]]\n",
    "    plt.plot(words[i], ys)\n",
    "    plt.show()"
   ]
  },
  {
   "cell_type": "markdown",
   "metadata": {},
   "source": [
    "## Overview\n",
    "\n",
    "One of the main things that I have noticed while using NLP to look at reviews is that context really matters. The frequently used words throughout all reviews are very similar. \n",
    "When looking at the difference of one-star reviews and five-star reviews, the main difference is a lack of the word “good” and “great”. You will see more words like “said”, “told”, “asked”, “called” and “got” due to the fact that people are describing an experience they had.\n",
    "\n",
    "It seems that the NearestNeighbor model works very well when looking at reviews."
   ]
  },
  {
   "cell_type": "markdown",
   "metadata": {},
   "source": [
    "## Stretch Goals\n",
    "\n",
    "Complete one of more of these to push your score towards a three: \n",
    "* Incorporate named entity recognition into your analysis\n",
    "* Compare vectorization methods in the classification section\n",
    "* Analyze more (or all) of the yelp dataset - this one is v. hard. \n",
    "* Use a generator object on the reviews file - this would help you with the analyzing the whole dataset.\n",
    "* Incorporate any of the other yelp dataset entities in your analysis (business, users, etc.)"
   ]
  }
 ],
 "metadata": {
  "kernel_info": {
   "name": "u4-s1-nlp"
  },
  "kernelspec": {
   "display_name": "unit-4",
   "language": "python",
   "name": "unit-4"
  },
  "language_info": {
   "codemirror_mode": {
    "name": "ipython",
    "version": 3
   },
   "file_extension": ".py",
   "mimetype": "text/x-python",
   "name": "python",
   "nbconvert_exporter": "python",
   "pygments_lexer": "ipython3",
   "version": "3.7.0"
  },
  "nteract": {
   "version": "0.14.5"
  },
  "toc-autonumbering": false
 },
 "nbformat": 4,
 "nbformat_minor": 2
}
